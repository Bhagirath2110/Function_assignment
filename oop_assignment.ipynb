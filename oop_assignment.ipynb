{
  "nbformat": 4,
  "nbformat_minor": 0,
  "metadata": {
    "colab": {
      "provenance": []
    },
    "kernelspec": {
      "name": "python3",
      "display_name": "Python 3"
    },
    "language_info": {
      "name": "python"
    }
  },
  "cells": [
    {
      "cell_type": "markdown",
      "source": [
        "# 1. What is Object-Oriented Programming (OOP) ?"
      ],
      "metadata": {
        "id": "iQJevIR-iwRN"
      }
    },
    {
      "cell_type": "markdown",
      "source": [
        "Object-Oriented Programming (OOP) is a programming paradigm (a way of writing code) that organizes programs using objects and classes instead of just functions and logic."
      ],
      "metadata": {
        "id": "MLUU0JxNjKOc"
      }
    },
    {
      "cell_type": "markdown",
      "source": [
        "# 2. What is a class in OOP ?\n",
        "\n",
        "In Object-Oriented Programming (OOP), a class is a blueprint or template for creating objects.\n",
        "\n",
        "It defines:\n",
        "\n",
        "Attributes (data, variables),\n",
        "\n",
        "Methods (functions that define behavior).\n",
        "\n",
        "\n",
        "Ex :-"
      ],
      "metadata": {
        "id": "sQoEFbEzjr0k"
      }
    },
    {
      "cell_type": "code",
      "source": [
        "class Car:\n",
        "    def __init__(self, brand, color):\n",
        "        self.brand = brand\n",
        "        self.color = color\n",
        "\n",
        "    def drive(self):\n",
        "        print(f\"The {self.color} {self.brand} is driving.\")\n",
        "\n",
        "# Creating objects\n",
        "car1 = Car(\"Toyota\", \"Red\")\n",
        "car2 = Car(\"Honda\", \"Blue\")\n",
        "\n",
        "car1.drive()   # Output: The Red Toyota is driving.\n",
        "car2.drive()   # Output: The Blue Honda is driving.\n"
      ],
      "metadata": {
        "colab": {
          "base_uri": "https://localhost:8080/"
        },
        "id": "IR9a3kJ5jJ02",
        "outputId": "84b60584-f2a3-42de-9fd1-a2539f52ef77"
      },
      "execution_count": null,
      "outputs": [
        {
          "output_type": "stream",
          "name": "stdout",
          "text": [
            "The Red Toyota is driving.\n",
            "The Blue Honda is driving.\n"
          ]
        }
      ]
    },
    {
      "cell_type": "markdown",
      "source": [
        "# 3. What is an object in OOP?\n",
        "\n",
        "An object is a real-world instance of a class.\n",
        "It is created based on a class, and it attributes and methods defined in that class.\n"
      ],
      "metadata": {
        "id": "sUd4HK4dmti4"
      }
    },
    {
      "cell_type": "code",
      "execution_count": null,
      "metadata": {
        "colab": {
          "base_uri": "https://localhost:8080/"
        },
        "id": "c-1DisRkiivJ",
        "outputId": "5229709e-c053-40c4-fc43-1099bcd9b2a8"
      },
      "outputs": [
        {
          "output_type": "stream",
          "name": "stdout",
          "text": [
            "Tommy the Labrador says Woof!\n",
            "Lucy the Beagle says Woof!\n"
          ]
        }
      ],
      "source": [
        "class Dog:\n",
        "    def __init__(self, name, breed):\n",
        "        self.name = name\n",
        "        self.breed = breed\n",
        "\n",
        "    def bark(self):\n",
        "        print(f\"{self.name} the {self.breed} says Woof!\")\n",
        "\n",
        "# Creating objects (instances of the class)\n",
        "dog1 = Dog(\"Tommy\", \"Labrador\")\n",
        "dog2 = Dog(\"Lucy\", \"Beagle\")\n",
        "\n",
        "# Calling methods on the objects\n",
        "dog1.bark()\n",
        "dog2.bark()\n"
      ]
    },
    {
      "cell_type": "markdown",
      "source": [
        "# 4. What is the difference between abstraction and encapsulation?\n",
        "\n",
        "\n",
        "| Feature         | **Abstraction**                                      | **Encapsulation**                                  |\n",
        "|-----------------|------------------------------------------------------|----------------------------------------------------|\n",
        "| **Definition**  | Hiding **complex implementation** and showing only **essential features**. | Hiding **data** by wrapping it inside a class and restricting direct access. |\n",
        "| **Purpose**     | Focus on **what** an object does, not **how** it does it. | Protect data from being accessed/modified directly. |\n",
        "| **How**         | Achieved using **abstract classes** or **interfaces**. | Achieved using **private variables** and **getter/setter methods**. |\n",
        "| **Example**     | You use `print()`, but you don't know how it internally works. | You access data in a class through methods, not directly. |"
      ],
      "metadata": {
        "id": "qiYFrlmroaQl"
      }
    },
    {
      "cell_type": "markdown",
      "source": [
        "# 5.What are dunder methods in Python?\n",
        "\n",
        "Dunder methods, also known as magic methods or special methods, in Python are special reserved methods\n",
        "that are surrounded by double underscores (i.e., __method__). These methods allow you to define how\n",
        "instances of your classes behave when they are used with built-in Python functions or operators. Understanding\n",
        "dunder methods is crucial for creating custom objects that behave like built-in types or implementing operator\n",
        "overloading in Python. Here's a detailed explanation of some commonly used dunder methods:\n",
        "\n",
        "\n",
        "1. __init__(self, ...): This method is called when an instance of the class is initialized. It is used to initialize\n",
        "instance variables and perform any setup required for the object.\n"
      ],
      "metadata": {
        "id": "43xMk0Si9Qmq"
      }
    },
    {
      "cell_type": "code",
      "source": [
        "class Subject:\n",
        "\n",
        "  def __init__(self,name):\n",
        "    print(\"this is a subject\", name)"
      ],
      "metadata": {
        "id": "E0hsRkh4QOus"
      },
      "execution_count": null,
      "outputs": []
    },
    {
      "cell_type": "code",
      "source": [
        "obj1 = Subject(\"Maths\")"
      ],
      "metadata": {
        "colab": {
          "base_uri": "https://localhost:8080/"
        },
        "id": "axWnMu2rQr_k",
        "outputId": "aa325778-c55f-4934-d932-d61de8aad8d2"
      },
      "execution_count": null,
      "outputs": [
        {
          "output_type": "stream",
          "name": "stdout",
          "text": [
            "this is a subject Maths\n"
          ]
        }
      ]
    },
    {
      "cell_type": "markdown",
      "source": [
        "2.\n",
        "__str__(self): This method is called when the str() function is used on an instance of the class. It should\n",
        "return a string representation of the object."
      ],
      "metadata": {
        "id": "wsw0FWsrQwWG"
      }
    },
    {
      "cell_type": "code",
      "source": [
        "class Student:\n",
        "  def __init__(self,name,roll_no):\n",
        "    self.__name=name\n",
        "    self.__roll_no=roll_no\n",
        "\n",
        "  def __str__(self):\n",
        "    return f'{self.__name} {self.__roll_no}'\n",
        "\n",
        "\n",
        "std = Student('ram',123)\n",
        "print(std)"
      ],
      "metadata": {
        "colab": {
          "base_uri": "https://localhost:8080/"
        },
        "id": "Xr4Ab00bTfXM",
        "outputId": "ba78afb3-167a-4540-bcc4-02659e4e01e6"
      },
      "execution_count": null,
      "outputs": [
        {
          "output_type": "stream",
          "name": "stdout",
          "text": [
            "ram 123\n"
          ]
        }
      ]
    },
    {
      "cell_type": "markdown",
      "source": [
        "3. __repr__(self): This method is called when the repr() function is used on an instance of the class. It\n",
        "should return an unambiguous string representation of the object, which can be used to recreate the\n",
        "object."
      ],
      "metadata": {
        "id": "vgiy0YkiT0UP"
      }
    },
    {
      "cell_type": "code",
      "source": [
        "class MyClass:\n",
        "  def __repr__(self):\n",
        "    return \"MyClass()\"\n",
        "\n",
        "obj = MyClass()\n",
        "print(obj)"
      ],
      "metadata": {
        "colab": {
          "base_uri": "https://localhost:8080/"
        },
        "id": "wEznidymX5jG",
        "outputId": "28acf1ba-856b-4bbb-f471-4ee062e357ea"
      },
      "execution_count": null,
      "outputs": [
        {
          "output_type": "stream",
          "name": "stdout",
          "text": [
            "MyClass()\n"
          ]
        }
      ]
    },
    {
      "cell_type": "markdown",
      "source": [
        "4. __add__(self, other):\n",
        "This method is called when the + operator is used with instances of the class. It\n",
        "\n",
        "should return the result of addition"
      ],
      "metadata": {
        "id": "phZwrwP_Yk71"
      }
    },
    {
      "cell_type": "code",
      "source": [
        "class Point:\n",
        "  def __init__(self,x,y):\n",
        "      self.x = x\n",
        "      self.y = y\n",
        "  def __add__(self,other):\n",
        "      return Point(self.x + other.x , self.y + other.y)\n"
      ],
      "metadata": {
        "id": "pTNALFx5Yurq"
      },
      "execution_count": null,
      "outputs": []
    },
    {
      "cell_type": "code",
      "source": [
        "p1 = Point(1,2)\n",
        "p2 = Point(1,2)\n",
        "p3 = p1 + p2\n",
        "print(p3.x,p3.y)"
      ],
      "metadata": {
        "colab": {
          "base_uri": "https://localhost:8080/"
        },
        "id": "gADFKOsCn1nL",
        "outputId": "6ecf562f-1bf4-4c92-f8ba-0ec6296b703d"
      },
      "execution_count": null,
      "outputs": [
        {
          "output_type": "stream",
          "name": "stdout",
          "text": [
            "2 4\n"
          ]
        }
      ]
    },
    {
      "cell_type": "markdown",
      "source": [
        "5. __eq__(self, other): This method is called when the == operator is used with instances of the class. It\n",
        "should return True if the objects are considered equal, False otherwise."
      ],
      "metadata": {
        "id": "aUN_pSj_l2Dl"
      }
    },
    {
      "cell_type": "code",
      "source": [
        "class Point:\n",
        "  def __init__(self,x,y):\n",
        "      self.x = x\n",
        "      self.y = y\n",
        "  def __eq__(self,other):\n",
        "      return self.x == other.x and self.y == other.y\n",
        "\n"
      ],
      "metadata": {
        "id": "KY9JOUcyl7JK"
      },
      "execution_count": null,
      "outputs": []
    },
    {
      "cell_type": "code",
      "source": [
        "p1 = Point(1,2)\n",
        "p2 = Point(1,2)\n",
        "\n",
        "print(p1 == p2)"
      ],
      "metadata": {
        "colab": {
          "base_uri": "https://localhost:8080/"
        },
        "id": "HT_TXcTVnNjc",
        "outputId": "fbd09614-241b-4373-8ae8-03ac0d119d0d"
      },
      "execution_count": null,
      "outputs": [
        {
          "output_type": "stream",
          "name": "stdout",
          "text": [
            "True\n"
          ]
        }
      ]
    },
    {
      "cell_type": "markdown",
      "source": [
        "# 6. Explain the concept of inheritance in OOP?\n",
        "\n",
        "Inheritance allows a class (called the child or subclass) to inherit the properties and methods of another class (called the parent or superclass).\n",
        "\n",
        "there is 5 type of inheritance :-\n",
        "\n",
        "  1. Single Inheritance :-\n",
        "     One child class inherits from one parent class.\n"
      ],
      "metadata": {
        "id": "2p_6NiZynj0a"
      }
    },
    {
      "cell_type": "code",
      "source": [
        "class Animal():\n",
        "  def speak(self):\n",
        "    print(\"Animal Speaking\")\n",
        "\n",
        "class Dog(Animal):\n",
        "  def bark(self):\n",
        "    print(\"Dog barking\")\n",
        "\n",
        "d = Dog()\n",
        "d.bark()\n",
        "d.speak()"
      ],
      "metadata": {
        "colab": {
          "base_uri": "https://localhost:8080/"
        },
        "id": "_NJhXXzTAx6N",
        "outputId": "ee35be05-5959-4b37-c619-1814292916f6"
      },
      "execution_count": null,
      "outputs": [
        {
          "output_type": "stream",
          "name": "stdout",
          "text": [
            "Dog barking\n",
            "Animal Speaking\n"
          ]
        }
      ]
    },
    {
      "cell_type": "markdown",
      "source": [
        "  2. Multiple Inheritance :-\n",
        " One child class inherits from more than one parent class."
      ],
      "metadata": {
        "id": "NJIX0JQlBY4U"
      }
    },
    {
      "cell_type": "code",
      "source": [
        "class Father():\n",
        "  def showFather(self):\n",
        "    print(\"Father Class\")\n",
        "\n",
        "class Mother():\n",
        "  def showMother(self):\n",
        "    print(\"Mother Class\")\n",
        "\n",
        "class Child(Father,Mother):\n",
        "  def showChild(self):\n",
        "    print(\"Child Class\")\n",
        "\n",
        "\n",
        "c = Child()\n",
        "\n",
        "c.showChild()\n",
        "c.showFather()\n",
        "c.showMother()"
      ],
      "metadata": {
        "colab": {
          "base_uri": "https://localhost:8080/"
        },
        "id": "dWzCSCfPBltE",
        "outputId": "653f9d67-54c8-4a5d-c51f-609f36bebcb8"
      },
      "execution_count": null,
      "outputs": [
        {
          "output_type": "stream",
          "name": "stdout",
          "text": [
            "Child Class\n",
            "Father Class\n",
            "Mother Class\n"
          ]
        }
      ]
    },
    {
      "cell_type": "markdown",
      "source": [
        "3. Multilevel Inheritance :-\n",
        "  A class inherits from a class, which itself is inherited from another class."
      ],
      "metadata": {
        "id": "Dg6ObdlzCEV4"
      }
    },
    {
      "cell_type": "code",
      "source": [
        "class grandfather():\n",
        "  def showGrandFather(self):\n",
        "    print(\"GrandFather Class\")\n",
        "\n",
        "class Father(grandfather):\n",
        "  def showFather(self):\n",
        "    print(\"Father Class\")\n",
        "\n",
        "class Child(Father):\n",
        "  def showChild(self):\n",
        "    print(\"Child Class\")\n",
        "\n",
        "c = Child()\n",
        "\n",
        "c.showChild()\n",
        "c.showFather()\n",
        "c.showGrandFather()\n",
        "\n",
        "f = Father()\n",
        "f.showFather()\n",
        "f.showGrandFather()"
      ],
      "metadata": {
        "colab": {
          "base_uri": "https://localhost:8080/"
        },
        "id": "FATQ0OQrDB_P",
        "outputId": "ca723126-52c4-4361-9367-359a0d850308"
      },
      "execution_count": null,
      "outputs": [
        {
          "output_type": "stream",
          "name": "stdout",
          "text": [
            "Child Class\n",
            "Father Class\n",
            "GrandFather Class\n",
            "Father Class\n",
            "GrandFather Class\n"
          ]
        }
      ]
    },
    {
      "cell_type": "markdown",
      "source": [
        " 4. Hierarchical Inheritance :-\n",
        "   Multiple child classes inherit from the same parent class."
      ],
      "metadata": {
        "id": "NmpKvQpXDPyi"
      }
    },
    {
      "cell_type": "code",
      "source": [
        "class parent():\n",
        "  def showParent(self):\n",
        "    print(\"Parent Class\")\n",
        "class child1(parent):\n",
        "  def showChild1(self):\n",
        "    print(\"Child1 Class\")\n",
        "class child2(parent):\n",
        "  def showChild2(self):\n",
        "    print(\"Child2 Class\")\n",
        "\n",
        "c1 = child1()\n",
        "c1.showChild1()\n",
        "c1.showParent()\n",
        "\n",
        "c2 = child2()\n",
        "c2.showChild2()\n",
        "c2.showParent()"
      ],
      "metadata": {
        "colab": {
          "base_uri": "https://localhost:8080/"
        },
        "id": "S7dGtifBDW17",
        "outputId": "1f64e585-5f09-45d1-bdb7-575e048a91ee"
      },
      "execution_count": null,
      "outputs": [
        {
          "output_type": "stream",
          "name": "stdout",
          "text": [
            "Child1 Class\n",
            "Parent Class\n",
            "Child2 Class\n",
            "Parent Class\n"
          ]
        }
      ]
    },
    {
      "cell_type": "markdown",
      "source": [
        "5. Hybrid Inheritance:-  A mix of two or more types of inheritance together (like multiple + multilevel, or hierarchical + single)."
      ],
      "metadata": {
        "id": "Lojy6ONuDwdS"
      }
    },
    {
      "cell_type": "code",
      "source": [
        "class A:\n",
        "  def showA(self):\n",
        "    print(\"Class A\")\n",
        "\n",
        "class B(A):\n",
        "  def showB(self):\n",
        "    print(\"Class B\")\n",
        "\n",
        "class C(A):\n",
        "  def showC(self):\n",
        "    print(\"Class C\")\n",
        "\n",
        "class D(B,C):\n",
        "  def showD(self):\n",
        "    print(\"Class D\")\n",
        "\n",
        "d = D()\n",
        "d.showD()\n",
        "d.showB()\n",
        "d.showC()\n",
        "d.showA()"
      ],
      "metadata": {
        "colab": {
          "base_uri": "https://localhost:8080/"
        },
        "id": "8Bh0Z0iXD8dl",
        "outputId": "8984c18e-a498-4d48-fd00-47ba21548916"
      },
      "execution_count": null,
      "outputs": [
        {
          "output_type": "stream",
          "name": "stdout",
          "text": [
            "Class D\n",
            "Class B\n",
            "Class C\n",
            "Class A\n"
          ]
        }
      ]
    },
    {
      "cell_type": "markdown",
      "source": [
        "# 7.What is polymorphism in OOP.\n",
        "\n",
        "Polymorphism In OOP: polymorphism refers to an object's capacity to assume several forms.\n",
        "Simply said, polymorphism enables us to carry out a single activity in a variety of ways\n",
        "\n",
        "Inheritance is the primary application of polymorphism. The traits and methods of a parent class are passed\n",
        "down to a child class through inheritance. A subclass, child class, or derived class is a new class that is\n",
        "created from an existing class, which is referred to as a base class or parent class.\n",
        "\n",
        "\n",
        "Method overriding polymorphism enables us to define child class methods with the same names as parent\n",
        "class methods. The act of overriding an inherited method in a child class is referred to as method overriding.\n",
        "In python, polymorphism is achieved through method overloading and method overriding.\n",
        "\n",
        "\n",
        "1. Method overloading : Method overloading is the practice of invoking the same method more than\n",
        "once with different parameters. Method overloading is not supported by Python. Even if you overload the\n",
        "method, Python only takes into account the most recent definition. If you overload a method in Python, a\n",
        "TypeError will be raised."
      ],
      "metadata": {
        "id": "BDCfTJTgEWWF"
      }
    },
    {
      "cell_type": "code",
      "source": [
        "def mux(x,y):\n",
        "    z= x*y\n",
        "    print(z)\n",
        "\n",
        "def mux(x,y,z):\n",
        "    s = x*y*z\n",
        "    print(s)\n",
        "\n",
        "mux(1,20)"
      ],
      "metadata": {
        "colab": {
          "base_uri": "https://localhost:8080/",
          "height": 182
        },
        "id": "7ss5xruxRcsM",
        "outputId": "1d579c7e-a7c5-43b1-afe6-f2c12977ea22"
      },
      "execution_count": null,
      "outputs": [
        {
          "output_type": "error",
          "ename": "TypeError",
          "evalue": "mux() missing 1 required positional argument: 'z'",
          "traceback": [
            "\u001b[0;31m---------------------------------------------------------------------------\u001b[0m",
            "\u001b[0;31mTypeError\u001b[0m                                 Traceback (most recent call last)",
            "\u001b[0;32m<ipython-input-4-2b77b7341aac>\u001b[0m in \u001b[0;36m<cell line: 0>\u001b[0;34m()\u001b[0m\n\u001b[1;32m      7\u001b[0m     \u001b[0mprint\u001b[0m\u001b[0;34m(\u001b[0m\u001b[0ms\u001b[0m\u001b[0;34m)\u001b[0m\u001b[0;34m\u001b[0m\u001b[0;34m\u001b[0m\u001b[0m\n\u001b[1;32m      8\u001b[0m \u001b[0;34m\u001b[0m\u001b[0m\n\u001b[0;32m----> 9\u001b[0;31m \u001b[0mmux\u001b[0m\u001b[0;34m(\u001b[0m\u001b[0;36m1\u001b[0m\u001b[0;34m,\u001b[0m\u001b[0;36m20\u001b[0m\u001b[0;34m)\u001b[0m\u001b[0;34m\u001b[0m\u001b[0;34m\u001b[0m\u001b[0m\n\u001b[0m",
            "\u001b[0;31mTypeError\u001b[0m: mux() missing 1 required positional argument: 'z'"
          ]
        }
      ]
    },
    {
      "cell_type": "markdown",
      "source": [
        "2. Method overriding : In Python, method overriding is the process of providing a different\n",
        "implementation for a method that is already defined in the superclass within a subclass. It enables the\n",
        "subclass to define its own version of a method with the same name and parameters as the method in the\n",
        "superclass. When a method is overridden, the subclass implements the method in its own way, which\n",
        "overrides the behaviour defined in the superclass. The subclass can then alter or expand the functionality of\n",
        "the inherited method."
      ],
      "metadata": {
        "id": "3THOW3adKPAl"
      }
    },
    {
      "cell_type": "code",
      "source": [
        "class animal():\n",
        "  def speak(self):\n",
        "    print(\"Animal Speaking\")\n",
        "\n",
        "class Dog(animal):\n",
        "  def speak(self):\n",
        "    print(\"Dog barking\")\n",
        "\n",
        "\n",
        "an = animal()\n",
        "an.speak()\n",
        "\n",
        "d = Dog()\n",
        "d.speak()"
      ],
      "metadata": {
        "id": "J2_llSWqJ102",
        "colab": {
          "base_uri": "https://localhost:8080/"
        },
        "outputId": "b266196c-24d5-4f72-ca3f-8734cda0976b"
      },
      "execution_count": null,
      "outputs": [
        {
          "output_type": "stream",
          "name": "stdout",
          "text": [
            "Animal Speaking\n",
            "Dog barking\n"
          ]
        }
      ]
    },
    {
      "cell_type": "markdown",
      "source": [
        "# 8. How is encapsulation achieved in Python?\n",
        "\n",
        "Encapsulation in Python :-\n",
        "\n",
        "  Encapsulation is a Python technique for combining data and functions into a\n",
        "single object. A class, for instance, contains all the data (methods and variables). Encapsulation refers to the\n",
        "broad concealment of an object's internal representation from areas outside of its specification.\n",
        "Assume, for instance, that you combine methods that provide read or write access with an attribute that is\n",
        "hidden from view on the exterior of an object. Then, you may limit who has access to the object's internal\n",
        "state and hide particular pieces of information. Without giving the program complete access to all of a\n",
        "class's variables, encapsulation provides a mechanism for us to obtain the necessary variable. This method is\n",
        "used to shield an object's data from other objects.\n",
        "\n",
        "\n",
        "Access Modifier in python : A class's data members and methods can be made private or protected in\n",
        "order to achieve encapsulation. Direct access modifiers like public, private, and protected don't exist in Python,\n",
        "though. Single and double underscores can be used to accomplish this.\n",
        "Modifiers for access control restrict use of a class's variables and methods. Private, public, and protected\n",
        "are the three different access modifier types that Python offers.\n",
        "\n",
        "1. Public Member : Both inside and outside of a class, public data members are accessible. By default, the\n",
        "class's member variables are all public."
      ],
      "metadata": {
        "id": "aDrmvjR6-on6"
      }
    },
    {
      "cell_type": "code",
      "source": [
        "class student():\n",
        "  def __init__(self,name,degree):\n",
        "    self.name = name\n",
        "    self.degree = degree\n",
        "\n",
        "  def show(self):\n",
        "    print(self.name,self.degree)\n",
        "\n",
        "s = student('ram','btech')\n",
        "s.show()"
      ],
      "metadata": {
        "colab": {
          "base_uri": "https://localhost:8080/"
        },
        "id": "3hZoZADs2tuy",
        "outputId": "8dd34185-a29f-4f4b-870b-c95d95b58525"
      },
      "execution_count": null,
      "outputs": [
        {
          "output_type": "stream",
          "name": "stdout",
          "text": [
            "ram btech\n"
          ]
        }
      ]
    },
    {
      "cell_type": "markdown",
      "source": [
        "2. Private Member : By designating class variables as private, we may protect them. Add two underscores as\n",
        "a prefix to the beginning of a variable name to define it as a private variable.\n",
        "Private members can only be accessed within the class; they are not directly available from class objects.\n",
        "We can access private members from outside of a class using the following two approaches\n",
        "1 Create a public method to access private members of a class\n",
        "1 By using name mangling"
      ],
      "metadata": {
        "id": "gCd62p074ayp"
      }
    },
    {
      "cell_type": "code",
      "source": [
        "class student():\n",
        "  def __init__(self,name,degree):\n",
        "    self.__name = name\n",
        "    self.__degree = degree\n",
        "\n",
        "  def show(self):\n",
        "    print(self.__name,self.__degree)\n",
        "\n",
        "s = student('ram','btech')\n",
        "s.show()\n"
      ],
      "metadata": {
        "colab": {
          "base_uri": "https://localhost:8080/"
        },
        "id": "TrR-v7jd4oSt",
        "outputId": "5c7bf493-8a6f-4b04-ac04-41d805c1bf95"
      },
      "execution_count": null,
      "outputs": [
        {
          "output_type": "stream",
          "name": "stdout",
          "text": [
            "ram btech\n"
          ]
        }
      ]
    },
    {
      "cell_type": "markdown",
      "source": [
        "3. Protected Member : Within the class and to its sub-classes, protected members can be accessed. Add a\n",
        "single underscore (_) before the member name to define it as a protected member.\n",
        "When you implement inheritance and wish to restrict access to data members to just child classes, you use\n",
        "protected data members."
      ],
      "metadata": {
        "id": "MarSBIL35CDw"
      }
    },
    {
      "cell_type": "code",
      "source": [
        "class collage():\n",
        "  def __init__(self,name,degree):\n",
        "    self._name = name\n",
        "    self._degree = degree\n",
        "\n",
        "  def show(self):\n",
        "    print(self._name,self._degree)\n",
        "\n",
        "col = collage('ram','btech')\n",
        "col.show()"
      ],
      "metadata": {
        "id": "wxXsraAi5FrV",
        "colab": {
          "base_uri": "https://localhost:8080/"
        },
        "outputId": "f220e71c-b0e0-4306-bf17-de447aff1f6b"
      },
      "execution_count": null,
      "outputs": [
        {
          "output_type": "stream",
          "name": "stdout",
          "text": [
            "ram btech\n"
          ]
        }
      ]
    },
    {
      "cell_type": "markdown",
      "source": [
        "# 9. What is a constructor in Python ?\n",
        "\n",
        "A constructor is a special method used to initialize an object when it's created from a class.\n",
        "\n",
        "In Python, the constructor is the __init__() method.\n",
        "\n",
        "\n",
        "It's used to initialize attributes of the object.\n",
        "\n",
        "Example:\n"
      ],
      "metadata": {
        "id": "fQRAMCXwIhkh"
      }
    },
    {
      "cell_type": "code",
      "source": [
        "class A:\n",
        "    def __init__(self, x): #It is constrocter with the perameter and also if there is no perameters out there than it has a self perameter which called as default constructer\n",
        "        self.x = x\n",
        "    def show(self):\n",
        "        print(self.x)\n",
        "obj = A(10)\n",
        "A.show(obj)\n"
      ],
      "metadata": {
        "colab": {
          "base_uri": "https://localhost:8080/"
        },
        "id": "XlJcCU28IyHG",
        "outputId": "242bbed4-5c31-4123-ab3b-886625a3eeed"
      },
      "execution_count": null,
      "outputs": [
        {
          "output_type": "stream",
          "name": "stdout",
          "text": [
            "10\n"
          ]
        }
      ]
    },
    {
      "cell_type": "markdown",
      "source": [
        "# 10. What are class and static methods in Python ?\n",
        "\n",
        "class method :-\n",
        "\n",
        "*   Belong to class, not the instanse\n",
        "*   Has access to class-level data\n",
        "*   Takes cls (not self) as the first parameter\n",
        "*   its defined using @classmethod decorator\n",
        "\n",
        "\n",
        "\n",
        "\n",
        "\n",
        "\n"
      ],
      "metadata": {
        "id": "5R9aL_ROC8HV"
      }
    },
    {
      "cell_type": "code",
      "source": [
        "class student():\n",
        "\n",
        "  total_student = 0\n",
        "\n",
        "  def __init__(self,name,degree):\n",
        "    self.name = name\n",
        "    self.degree = degree\n",
        "    student.total_student += 1\n",
        "\n",
        "  def show(self):\n",
        "    print(self.name,self.degree)\n",
        "\n",
        "  @classmethod\n",
        "  def total(cls):\n",
        "    print(cls.total_student)\n",
        "\n",
        "s = student('ram','btech')\n",
        "s.show()\n",
        "student.total()"
      ],
      "metadata": {
        "colab": {
          "base_uri": "https://localhost:8080/"
        },
        "id": "rsKYGzwFjCU6",
        "outputId": "4e5f4076-59d8-4b54-8541-d51e83f22a6e"
      },
      "execution_count": null,
      "outputs": [
        {
          "output_type": "stream",
          "name": "stdout",
          "text": [
            "ram btech\n",
            "1\n"
          ]
        }
      ]
    },
    {
      "cell_type": "markdown",
      "source": [
        "Static method :- Static methods are methods that belong to the class and don't access or modify class or instance state. They\n",
        "are defined using the @staticmethod decorator."
      ],
      "metadata": {
        "id": "-l537zSOl7IC"
      }
    },
    {
      "cell_type": "code",
      "source": [
        "class Calculator():\n",
        "    @staticmethod\n",
        "    def add(x,y):\n",
        "      return x+y\n",
        "\n",
        "\n",
        "    @staticmethod\n",
        "    def subtract(x, y):\n",
        "      return x - y\n",
        "\n",
        "\n",
        "    sum_result = Calculator.add(5, 3)\n",
        "    difference_result = Calculator.subtract(10, 4)\n",
        "\n",
        "\n",
        "    print(\"Sum:\", sum_result)\n",
        "    print(\"Difference:\", difference_result)"
      ],
      "metadata": {
        "colab": {
          "base_uri": "https://localhost:8080/"
        },
        "id": "8IZlpLnYwNE0",
        "outputId": "c6fbe95e-7d0d-4290-f18e-639e71cfbf89"
      },
      "execution_count": null,
      "outputs": [
        {
          "output_type": "stream",
          "name": "stdout",
          "text": [
            "Sum: 8\n",
            "Difference: 6\n"
          ]
        }
      ]
    },
    {
      "cell_type": "markdown",
      "source": [
        "\n",
        "# 11. What is method overloading in Python?\n",
        "\n",
        "Method overloading : Method overloading is the practice of invoking the same method more than once with different parameters. Method overloading is not supported by Python. Even if you overload the method, Python only takes into account the most recent definition. If you overload a method in Python, a TypeError will be raised.\n",
        "\n"
      ],
      "metadata": {
        "id": "nPgyb0c9x9YC"
      }
    },
    {
      "cell_type": "code",
      "source": [
        "def mux(x,y):\n",
        "    z= x*y\n",
        "    print(z)\n",
        "\n",
        "def mux(x,y,z):\n",
        "    s = x*y*z\n",
        "    print(s)\n",
        "\n",
        "mux(1,20,3)"
      ],
      "metadata": {
        "colab": {
          "base_uri": "https://localhost:8080/"
        },
        "id": "wotHwwYK8PyJ",
        "outputId": "6c52e30e-7f26-4900-96a3-a2f1022a02a1"
      },
      "execution_count": null,
      "outputs": [
        {
          "output_type": "stream",
          "name": "stdout",
          "text": [
            "60\n"
          ]
        }
      ]
    },
    {
      "cell_type": "markdown",
      "source": [
        "# 12. What is method overriding in OOP?\n",
        "\n",
        "Method overriding : In Python, method overriding is the process of providing a different implementation for a method that is already defined in the superclass within a subclass. It enables the subclass to define its own version of a method with the same name and parameters as the method in the superclass. When a method is overridden, the subclass implements the method in its own way, which overrides the behaviour defined in the superclass. The subclass can then alter or expand the functionality of the inherited method."
      ],
      "metadata": {
        "id": "Bt9uS9429WXY"
      }
    },
    {
      "cell_type": "code",
      "source": [
        "class animal():\n",
        "  def speak(self):\n",
        "    print(\"Animal Speaking\")\n",
        "\n",
        "class Dog(animal):\n",
        "  def speak(self):\n",
        "    print(\"Dog barking\")\n",
        "\n",
        "\n",
        "an = animal()\n",
        "an.speak()\n",
        "\n",
        "d = Dog()\n",
        "d.speak()"
      ],
      "metadata": {
        "colab": {
          "base_uri": "https://localhost:8080/"
        },
        "id": "0Fu9581Z9icm",
        "outputId": "a6f09fdb-3f72-4601-802e-6e582d3b8aac"
      },
      "execution_count": null,
      "outputs": [
        {
          "output_type": "stream",
          "name": "stdout",
          "text": [
            "Animal Speaking\n",
            "Dog barking\n"
          ]
        }
      ]
    },
    {
      "cell_type": "markdown",
      "source": [
        "# 13. What is a property decorator in Python?\n",
        "\n",
        "In Python, the @property decorator is used to turn a method into a read-only attribute. It allows controlled access to private instance variables by letting you define getters, setters, and deleters in a clean and Pythonic way.\n",
        "\n",
        "use case : -\n",
        "\n",
        "\n",
        "* To encapsulate instance variables\n",
        "\n",
        "* To hide internal implementation\n",
        "\n",
        "* To make attribute access feel natural, like obj.value instead of obj.get_value()\n",
        "\n",
        "\n",
        "\n"
      ],
      "metadata": {
        "id": "54uHeuH79mTw"
      }
    },
    {
      "cell_type": "code",
      "source": [
        "class Student:\n",
        "    def __init__(self, name):\n",
        "        self._name = name\n",
        "\n",
        "    @property\n",
        "    def name(self):\n",
        "        return self._name  # getter\n",
        "\n",
        "    @name.setter\n",
        "    def name(self, value):\n",
        "        if value != \"\":\n",
        "            self._name = value  # setter\n",
        "\n",
        "    @name.deleter\n",
        "    def name(self):\n",
        "        del self._name  # deleter\n"
      ],
      "metadata": {
        "id": "puL7U2vh-1rO"
      },
      "execution_count": null,
      "outputs": []
    },
    {
      "cell_type": "code",
      "source": [
        "s = Student(\"Bhagirath\")\n",
        "print(s.name)        # calls the getter\n",
        "s.name = \"Kanet\"\n",
        "print(s.name)\n",
        "s.name = \"bkkanet\"\n",
        "print(s.name)\n",
        "del s.name\n"
      ],
      "metadata": {
        "colab": {
          "base_uri": "https://localhost:8080/"
        },
        "id": "xaymeOVCAIH4",
        "outputId": "56a7e243-4d0a-4d00-9948-598a78afab14"
      },
      "execution_count": null,
      "outputs": [
        {
          "output_type": "stream",
          "name": "stdout",
          "text": [
            "Bhagirath\n",
            "Kanet\n",
            "bkkanet\n"
          ]
        }
      ]
    },
    {
      "cell_type": "markdown",
      "source": [
        "# 13. Why is polymorphism important in OOP?\n",
        "\n",
        "* Code Reusability\n",
        "You can write general-purpose functions that work with different types of objects. This avoids duplicating code.\n",
        "\n",
        "* Extensibility\n",
        "You can easily add new classes without changing existing code, following the Open/Closed Principle.\n",
        "\n",
        "*  Simplifies Code Maintenance\n",
        "It helps reduce if-else or type-checking logic, making code easier to read and maintain.\n",
        "\n",
        "* Promotes Interface Usage\n",
        "Encourages programming to an interface, not implementation, improving abstraction"
      ],
      "metadata": {
        "id": "ehjCv8tKCK27"
      }
    },
    {
      "cell_type": "markdown",
      "source": [
        "# 14. What is an abstract class in Python?\n",
        "\n",
        "* It’s like a blueprint or template for other classes.\n",
        "\n",
        "* You can’t use it directly, but you use it to build other classes.\n",
        "\n",
        "* It contains abstract methods that must be written by any class that inherits from it.\n",
        "\n"
      ],
      "metadata": {
        "id": "7og_-GLLDJBj"
      }
    },
    {
      "cell_type": "code",
      "source": [
        "from abc import ABC, abstractmethod\n",
        "\n",
        "class Animal(ABC):  # This is an abstract class\n",
        "    @abstractmethod\n",
        "    def make_sound(self):\n",
        "        pass"
      ],
      "metadata": {
        "id": "x4PLsc8qDHfw"
      },
      "execution_count": null,
      "outputs": []
    },
    {
      "cell_type": "code",
      "source": [
        "class Dog(Animal):\n",
        "    def make_sound(self):\n",
        "        print(\"Woof!\")\n",
        "\n",
        "class Cat(Animal):\n",
        "    def make_sound(self):\n",
        "        print(\"Meow!\")\n",
        "\n",
        "def animal_sound(animal):\n",
        "    animal.make_sound()\n",
        "\n",
        "\n",
        "dog = Dog()\n",
        "\n",
        "dog.make_sound()\n",
        "\n",
        "cat = Cat()\n",
        "cat.make_sound()"
      ],
      "metadata": {
        "colab": {
          "base_uri": "https://localhost:8080/"
        },
        "id": "CqiXM1O6HU4v",
        "outputId": "50e46d21-5496-4c18-cc37-84ce74671ba5"
      },
      "execution_count": null,
      "outputs": [
        {
          "output_type": "stream",
          "name": "stdout",
          "text": [
            "Woof!\n",
            "Meow!\n"
          ]
        }
      ]
    },
    {
      "cell_type": "markdown",
      "source": [
        "# 15. What are the advantages of OOP?\n",
        "\n",
        "    1. Modularity\n",
        "    Code is divided into classes and objects, making it easier to manage.\n",
        "\n",
        "    Each class is self-contained and handles one responsibility.\n",
        "\n",
        "    2. Reusability\n",
        "    You can reuse code using inheritance.\n",
        "\n",
        "    Common functionality can be written once and reused by multiple subclasses.\n",
        "\n",
        "    3. Scalability and Maintainability\n",
        "    Easier to update or scale code without affecting the entire system.\n",
        "\n",
        "    Changes to one class don't require rewriting other parts of the codebase.\n",
        "\n",
        "    4. Encapsulation\n",
        "    Data and methods are bundled together in a class.\n",
        "\n",
        "    You can protect internal data using private/public methods and variables.\n",
        "\n",
        "    Makes code more secure and reduces complexity.\n",
        "\n",
        "    5. Polymorphism\n",
        "    Allows same method names to behave differently depending on the object.\n",
        "\n",
        "    Enables dynamic behavior and easier code extensions.\n",
        "\n",
        "    6. Abstraction\n",
        "    Hides unnecessary details and shows only what is needed.\n",
        "\n",
        "    Makes programs easier to understand and use.\n",
        "\n",
        "    7. Improved Code Organization\n",
        "    OOP provides a structured way to organize complex systems.\n",
        "\n",
        "    Classes mirror real-world entities, making code more intuitive.\n",
        "\n",
        "    8. Better Testing and Debugging\n",
        "    Smaller, modular classes are easier to test and debug independently.\n",
        "\n",
        "    9. Real-world Modeling\n",
        "    OOP helps you model real-world problems using classes and objects.\n",
        "\n",
        "    Makes program design more natural and effective.\n",
        "\n",
        "    10. Team Collaboration\n",
        "    Multiple developers can work on different classes at the same time.\n",
        "\n",
        "    Reduces conflict and increases development speed."
      ],
      "metadata": {
        "id": "-OmLG6arL8fD"
      }
    },
    {
      "cell_type": "markdown",
      "source": [
        "# 17. What is the difference between a class variable and an instance variable?\n",
        "\n",
        "## Class Variable :-\n",
        "* A class variable is a variable that is shared by all objects (instances) of a class.\n",
        "\n",
        "* It is defined inside the class but outside all methods.\n",
        "\n",
        "* All instances refer to the same copy of the class variable.\n",
        "\n",
        "* Used when you want to store common data for all objects.\n",
        "\n",
        "##Instance Variable:-\n",
        "* An instance variable is a variable that is unique for each object of the class.\n",
        "\n",
        "* It is defined inside the constructor (__init__ method) using self.\n",
        "\n",
        "* Each object has its own copy of instance variables.\n",
        "\n",
        "* Used when you want to store object-specific data."
      ],
      "metadata": {
        "id": "G3CJ928KMrpf"
      }
    },
    {
      "cell_type": "code",
      "source": [
        "class Student:\n",
        "    school_name = \"Green Valley School\"  # class variable\n",
        "\n",
        "    def __init__(self, name, grade):\n",
        "        self.name = name       # instance variable\n",
        "        self.grade = grade\n",
        "\n",
        "s1 = Student(\"Amit\", \"10th\")\n",
        "s2 = Student(\"Bhagirath\", \"12th\")\n",
        "\n",
        "print(s1.name)\n",
        "print(s2.name)\n",
        "\n",
        "print(s1.school_name)\n",
        "print(s2.school_name)"
      ],
      "metadata": {
        "colab": {
          "base_uri": "https://localhost:8080/"
        },
        "id": "XRPQSO0qOB31",
        "outputId": "cd252142-9c94-441d-80e6-0439fd76790a"
      },
      "execution_count": null,
      "outputs": [
        {
          "output_type": "stream",
          "name": "stdout",
          "text": [
            "Amit\n",
            "Bhagirath\n",
            "Green Valley School\n",
            "Green Valley School\n"
          ]
        }
      ]
    },
    {
      "cell_type": "markdown",
      "source": [
        "# 18. What is multiple inheritance in Python?\n",
        "\n",
        "Multiple Inheritance means that a class can inherit from more than one parent class.\n",
        "This allows the child class to access properties and methods from all the parent classes.\n",
        "\n"
      ],
      "metadata": {
        "id": "zFZe4g7JOg-V"
      }
    },
    {
      "cell_type": "code",
      "source": [
        "class Father:\n",
        "    def skills(self):\n",
        "        print(\"Father: Gardening and Cooking\")\n",
        "\n",
        "class Mother:\n",
        "    def hobbies(self):\n",
        "        print(\"Mother: Painting and Singing\")\n",
        "\n",
        "class Child(Father, Mother):\n",
        "    def own_skill(self):\n",
        "        print(\"Child: Coding\")\n",
        "\n",
        "c = Child()\n",
        "c.skills()     # from Father\n",
        "c.hobbies()    # from Mother\n",
        "c.own_skill()  # from Child\n"
      ],
      "metadata": {
        "colab": {
          "base_uri": "https://localhost:8080/"
        },
        "id": "ydmHRfSzObPr",
        "outputId": "caf58ab3-00cb-41f1-dcfe-c11636984016"
      },
      "execution_count": null,
      "outputs": [
        {
          "output_type": "stream",
          "name": "stdout",
          "text": [
            "Father: Gardening and Cooking\n",
            "Mother: Painting and Singing\n",
            "Child: Coding\n"
          ]
        }
      ]
    },
    {
      "cell_type": "markdown",
      "source": [
        "# 19. Explain the purpose of ‘__str__’ and ‘__repr__’ methods in Python.\n",
        "\n",
        "###__str__() :-\n",
        "\n",
        "* User-friendly string representation\n",
        "* Used to return a readable, informal, or nicely formatted string for the end user.\n",
        "\n",
        "* Called by print() or str() function.\n",
        "\n",
        "\n"
      ],
      "metadata": {
        "id": "5WysfxnBOz18"
      }
    },
    {
      "cell_type": "code",
      "source": [
        "class Person:\n",
        "    def __init__(self, name, age):\n",
        "        self.name = name\n",
        "        self.age = age\n",
        "\n",
        "    def __str__(self):\n",
        "        return f\"{self.name} is {self.age} years old.\"\n",
        "\n",
        "p = Person(\"Bhagirath\", 24)\n",
        "print(p)  # Output: Bhagirath is 24 years old.\n"
      ],
      "metadata": {
        "colab": {
          "base_uri": "https://localhost:8080/"
        },
        "id": "jbfXYGvWQFNh",
        "outputId": "4c871cb5-4bdc-4009-8603-deafc218632f"
      },
      "execution_count": null,
      "outputs": [
        {
          "output_type": "stream",
          "name": "stdout",
          "text": [
            "Bhagirath is 24 years old.\n"
          ]
        }
      ]
    },
    {
      "cell_type": "markdown",
      "source": [
        "### __repr__():-\n",
        "\n",
        "*  Developer-friendly string representation\n",
        "* Used for debugging and logging.\n",
        "* Called by repr() function or when object is typed in interactive shell."
      ],
      "metadata": {
        "id": "RlLxGqoCQXq_"
      }
    },
    {
      "cell_type": "code",
      "source": [
        "class Person:\n",
        "    def __init__(self, name, age):\n",
        "        self.name = name\n",
        "        self.age = age\n",
        "\n",
        "    def __repr__(self):\n",
        "        return f\"Person('{self.name}', {self.age})\"\n",
        "\n",
        "p = Person(\"Bhagirath\", 24)\n",
        "print(repr(p))  # Output: Person('Bhagirath', 24)\n"
      ],
      "metadata": {
        "colab": {
          "base_uri": "https://localhost:8080/"
        },
        "id": "TBdf1F6vQ2Gg",
        "outputId": "83f3c61e-078c-4e4a-c16c-eeeb54cf0920"
      },
      "execution_count": null,
      "outputs": [
        {
          "output_type": "stream",
          "name": "stdout",
          "text": [
            "Person('Bhagirath', 24)\n"
          ]
        }
      ]
    },
    {
      "cell_type": "markdown",
      "source": [
        "# 20. What is the significance of the ‘super()’ function in Python?\n",
        "\n",
        "The super() function is used to call methods from a parent (or superclass) in a child class.\n",
        "\n",
        "It is especially helpful in inheritance, where you want to extend the functionality of the parent class without completely rewriting it.\n",
        "\n",
        "\n",
        "### use:-\n",
        "\n",
        "* To reuse code from the parent class.\n",
        "* To avoid hardcoding the parent class name.\n",
        "* Supports multiple inheritance and Python’s Method Resolution Order (MRO).\n",
        "\n"
      ],
      "metadata": {
        "id": "fsagF9zpRCEX"
      }
    },
    {
      "cell_type": "code",
      "source": [
        "class Animal:\n",
        "    def __init__(self, name):\n",
        "        self.name = name\n",
        "        print(f\"Animal created: {self.name}\")\n",
        "\n",
        "class Dog(Animal):\n",
        "    def __init__(self, name, breed):\n",
        "        super().__init__(name)\n",
        "        self.breed = breed\n",
        "        print(f\"Dog created: {self.name}, Breed: {self.breed}\")\n",
        "\n",
        "\n",
        "d = Dog(\"Tommy\", \"Labrador\")\n"
      ],
      "metadata": {
        "colab": {
          "base_uri": "https://localhost:8080/"
        },
        "id": "aIMVqCkkRySU",
        "outputId": "f91e5d06-7cd6-4b31-9d9c-faf92b966bf7"
      },
      "execution_count": null,
      "outputs": [
        {
          "output_type": "stream",
          "name": "stdout",
          "text": [
            "Animal created: Tommy\n",
            "Dog created: Tommy, Breed: Labrador\n"
          ]
        }
      ]
    },
    {
      "cell_type": "markdown",
      "source": [
        "# 21. What is the significance of the __del__ method in Python?\n",
        "\n",
        "The __del__() method in Python is a special method (also called a destructor) that is called automatically when an object is about to be destroyed or deleted.\n",
        "\n"
      ],
      "metadata": {
        "id": "IICp7RWmR8mQ"
      }
    },
    {
      "cell_type": "code",
      "source": [
        "class FileHandler:\n",
        "    def __init__(self, filename):\n",
        "        self.filename = filename\n",
        "        print(f\"Opening file: {self.filename}\")\n",
        "\n",
        "    def __del__(self):\n",
        "        print(f\"Closing file: {self.filename}\")\n",
        "\n",
        "f = FileHandler(\"data.txt\")\n",
        "\n",
        "del f\n"
      ],
      "metadata": {
        "id": "1jOdlgXf9xKt",
        "colab": {
          "base_uri": "https://localhost:8080/"
        },
        "outputId": "ca6615f1-aaca-4fab-d770-f106f9ea6905"
      },
      "execution_count": null,
      "outputs": [
        {
          "output_type": "stream",
          "name": "stdout",
          "text": [
            "Opening file: data.txt\n",
            "Closing file: data.txt\n"
          ]
        }
      ]
    },
    {
      "cell_type": "markdown",
      "source": [
        "# 22. What is the difference between @staticmethod and @classmethod in Python?\n",
        "\n",
        "### @staticmethod :-\n",
        "Does not take self or cls as a first argument.\n",
        "\n",
        "Cannot access or modify class state or instance state.\n",
        "\n",
        "Behaves like a regular function, just grouped logically in the class.\n",
        "\n",
        "\n",
        "\n",
        "###Example:-\n"
      ],
      "metadata": {
        "id": "KlNHqcEMFuBS"
      }
    },
    {
      "cell_type": "code",
      "source": [
        "class Math:\n",
        "    @staticmethod\n",
        "    def add(x, y):\n",
        "        return x + y\n",
        "\n",
        "print(Math.add(3, 5))\n"
      ],
      "metadata": {
        "colab": {
          "base_uri": "https://localhost:8080/"
        },
        "id": "iCVK1KPfHh0U",
        "outputId": "226398ca-caa5-49a1-a57f-3ae3da608946"
      },
      "execution_count": null,
      "outputs": [
        {
          "output_type": "stream",
          "name": "stdout",
          "text": [
            "8\n"
          ]
        }
      ]
    },
    {
      "cell_type": "markdown",
      "source": [
        "### @classmethod :-\n",
        "Takes cls as the first argument, which refers to the class itself (not the instance).\n",
        "\n",
        "Can access and modify class-level attributes.\n",
        "\n",
        "Useful for factory methods that create class instances."
      ],
      "metadata": {
        "id": "6MpY9iQWHq3B"
      }
    },
    {
      "cell_type": "code",
      "source": [
        "class Person:\n",
        "    species = \"Human\"\n",
        "\n",
        "    def __init__(self, name):\n",
        "        self.name = name\n",
        "\n",
        "    @classmethod\n",
        "    def from_string(cls, name_str):\n",
        "        return cls(name_str)\n",
        "\n",
        "p = Person.from_string(\"Bhagirath\")\n",
        "print(p.name)"
      ],
      "metadata": {
        "colab": {
          "base_uri": "https://localhost:8080/"
        },
        "id": "a-cW_mDWHytF",
        "outputId": "ca9d2cb6-1830-4584-8c2b-fb73c7ddab68"
      },
      "execution_count": null,
      "outputs": [
        {
          "output_type": "stream",
          "name": "stdout",
          "text": [
            "Bhagirath\n"
          ]
        }
      ]
    },
    {
      "cell_type": "markdown",
      "source": [
        "# 23. How does polymorphism work in Python with inheritance?\n",
        "\n",
        "Polymorphism in Python allows objects of different classes to be treated as objects of a common superclass, particularly when they share methods with the same name but behave differently.\n",
        "\n"
      ],
      "metadata": {
        "id": "LSCRZsLVIFLm"
      }
    },
    {
      "cell_type": "code",
      "source": [
        "class Animal:\n",
        "    def speak(self):\n",
        "        return \"Animal speaks\"\n",
        "\n",
        "class Dog(Animal):\n",
        "    def speak(self):\n",
        "        return \"Dog barks\"\n",
        "\n",
        "class Cat(Animal):\n",
        "    def speak(self):\n",
        "        return \"Cat meows\"\n",
        "\n",
        "def animal_sound(animal):\n",
        "    print(animal.speak())\n",
        "\n",
        "\n",
        "animal_sound(Dog())\n",
        "animal_sound(Cat())\n",
        "\n"
      ],
      "metadata": {
        "colab": {
          "base_uri": "https://localhost:8080/"
        },
        "id": "xk8hUqDFFtft",
        "outputId": "9a7b5730-d3e4-4b24-bd62-d0b87a4dac70"
      },
      "execution_count": null,
      "outputs": [
        {
          "output_type": "stream",
          "name": "stdout",
          "text": [
            "Dog barks\n",
            "Cat meows\n"
          ]
        }
      ]
    },
    {
      "cell_type": "markdown",
      "source": [
        "# 24. What is method chaining in Python OOP?\n",
        "\n",
        "Method chaining is a technique in Object-Oriented Programming (OOP) where multiple methods are called on the same object in a single line, one after the other.\n",
        "\n"
      ],
      "metadata": {
        "id": "DfeC3kNVKP7I"
      }
    },
    {
      "cell_type": "code",
      "source": [
        "class Calculator:\n",
        "    def __init__(self, value=0):\n",
        "        self.value = value\n",
        "\n",
        "    def add(self, x):\n",
        "        self.value += x\n",
        "        return self\n",
        "\n",
        "    def subtract(self, x):\n",
        "        self.value -= x\n",
        "        return self\n",
        "\n",
        "    def multiply(self, x):\n",
        "        self.value *= x\n",
        "        return self\n",
        "\n",
        "    def result(self):\n",
        "        return self.value\n",
        "\n",
        "calc = Calculator()\n",
        "final_result = calc.add(10).subtract(2).multiply(3).result()\n",
        "print(final_result)\n",
        "\n"
      ],
      "metadata": {
        "colab": {
          "base_uri": "https://localhost:8080/"
        },
        "id": "Hc7QvBoL_yDx",
        "outputId": "a66e6007-543b-4abf-c47e-2edcfad0675f"
      },
      "execution_count": null,
      "outputs": [
        {
          "output_type": "stream",
          "name": "stdout",
          "text": [
            "24\n"
          ]
        }
      ]
    },
    {
      "cell_type": "markdown",
      "source": [
        "25. The __call__() method in Python allows an instance of a class to be called like a function. This makes objects callable, just like regular functions.\n",
        "\n",
        "  #### Use :-\n",
        "\n",
        "  * To add function-like behavior to objects.\n",
        "\n",
        "  * Useful when you want an object to perform an action every time it is \"called\".\n",
        "\n",
        " * Common in decorators, machine learning models (like model()), and APIs."
      ],
      "metadata": {
        "id": "NZTh50Z0K9rO"
      }
    },
    {
      "cell_type": "code",
      "source": [
        "class MultiplyBy:\n",
        "    def __init__(self, factor):\n",
        "        self.factor = factor\n",
        "\n",
        "    def __call__(self, x):\n",
        "        return x * self.factor\n",
        "\n",
        "double = MultiplyBy(2)\n",
        "print(double(5))\n"
      ],
      "metadata": {
        "colab": {
          "base_uri": "https://localhost:8080/"
        },
        "id": "7jNtMAl3MAUL",
        "outputId": "6a2b6a41-fd58-4a01-d705-3ab40dc33ee4"
      },
      "execution_count": null,
      "outputs": [
        {
          "output_type": "stream",
          "name": "stdout",
          "text": [
            "10\n"
          ]
        }
      ]
    },
    {
      "cell_type": "markdown",
      "source": [
        "# Practicals"
      ],
      "metadata": {
        "id": "6UtQqbO0MEak"
      }
    },
    {
      "cell_type": "markdown",
      "source": [
        "1. Create a parent class Animal with a method speak() that prints a generic message. Create a child class Dog that overrides the speak() method to print \"Bark!\"."
      ],
      "metadata": {
        "id": "le_ssEj4MMgD"
      }
    },
    {
      "cell_type": "code",
      "source": [
        "class Animal():\n",
        "\n",
        "  def speak(self):\n",
        "    print(\"Animal speaks\")\n",
        "\n",
        "class Dog(Animal):\n",
        "\n",
        "  def speak(self):\n",
        "    print(\"Bark!\")\n",
        "\n",
        "d = Dog()\n",
        "d.speak()"
      ],
      "metadata": {
        "colab": {
          "base_uri": "https://localhost:8080/"
        },
        "id": "1D4lqXDbMY13",
        "outputId": "cbe0b298-dff6-4d3d-e9f6-b25d23a8cad1"
      },
      "execution_count": null,
      "outputs": [
        {
          "output_type": "stream",
          "name": "stdout",
          "text": [
            "Bark!\n"
          ]
        }
      ]
    },
    {
      "cell_type": "markdown",
      "source": [
        "2. Write a program to create an abstract class Shape with a method area(). Derive classes Circle and Rectangle from it and implement the area() method in both."
      ],
      "metadata": {
        "id": "4-rjtbg4NOn_"
      }
    },
    {
      "cell_type": "code",
      "source": [
        "from abc import ABC, abstractmethod\n",
        "\n",
        "class Shape(ABC):\n",
        "    @abstractmethod\n",
        "    def area(self):\n",
        "        pass\n",
        "class Circle(Shape):\n",
        "    def __init__(self, radius):\n",
        "        self.radius = radius\n",
        "    def area(self):\n",
        "        return 3.14 * self.radius **2\n",
        "\n",
        "class Rectangle(Shape):\n",
        "    def __init__(self, length, width):\n",
        "        self.length = length\n",
        "        self.width = width\n",
        "    def area(self):\n",
        "        return self.length * self.width\n",
        "\n",
        "c = Circle(5)\n",
        "print(c.area())\n",
        "\n",
        "r = Rectangle(4, 6)\n",
        "print(r.area())"
      ],
      "metadata": {
        "colab": {
          "base_uri": "https://localhost:8080/"
        },
        "id": "9ZelH6UlNRk9",
        "outputId": "576bdd43-5b90-4f14-c0fa-dfe339a5c459"
      },
      "execution_count": null,
      "outputs": [
        {
          "output_type": "stream",
          "name": "stdout",
          "text": [
            "78.5\n",
            "24\n"
          ]
        }
      ]
    },
    {
      "cell_type": "markdown",
      "source": [
        "3. 3. Implement a multi-level inheritance scenario where a class Vehicle has an attribute type. Derive a class Car and further derive a class ElectricCar that adds a battery attribute."
      ],
      "metadata": {
        "id": "kmCgrGXlPRJE"
      }
    },
    {
      "cell_type": "code",
      "source": [
        "\n",
        "class Vehicle:\n",
        "    def __init__(self, type):\n",
        "        self.type = type\n",
        "\n",
        "    def display_type(self):\n",
        "        print(f\"Vehicle type: {self.type}\")\n",
        "\n",
        "\n",
        "class Car(Vehicle):\n",
        "    def __init__(self, type, brand):\n",
        "        super().__init__(type)\n",
        "        self.brand = brand\n",
        "\n",
        "    def display_brand(self):\n",
        "        print(f\"Car brand: {self.brand}\")\n",
        "\n",
        "\n",
        "class ElectricCar(Car):\n",
        "    def __init__(self, type, brand, battery_capacity):\n",
        "        super().__init__(type, brand)\n",
        "        self.battery_capacity = battery_capacity\n",
        "\n",
        "    def display_info(self):\n",
        "        self.display_type()\n",
        "        self.display_brand()\n",
        "        print(f\"Battery capacity: {self.battery_capacity} kWh\")\n",
        "\n",
        "tesla = ElectricCar(\"Four Wheeler\", \"Tesla\", 85)\n",
        "tesla.display_info()\n"
      ],
      "metadata": {
        "colab": {
          "base_uri": "https://localhost:8080/"
        },
        "id": "dlXen4RrPT0N",
        "outputId": "828538ee-7018-48dc-a52c-c16f52269ef0"
      },
      "execution_count": null,
      "outputs": [
        {
          "output_type": "stream",
          "name": "stdout",
          "text": [
            "Vehicle type: Four Wheeler\n",
            "Car brand: Tesla\n",
            "Battery capacity: 85 kWh\n"
          ]
        }
      ]
    },
    {
      "cell_type": "markdown",
      "source": [
        "4. Demonstrate polymorphism by creating a base class Bird with a method fly(). Create two derived classes Sparrow and Penguin that override the fly() method."
      ],
      "metadata": {
        "id": "LQuiadXjRACs"
      }
    },
    {
      "cell_type": "code",
      "source": [
        "class Bird():\n",
        "  def fly(self):\n",
        "    print(\"Birds can fly\")\n",
        "\n",
        "class Sparrow(Bird):\n",
        "  def fly(self):\n",
        "    print(\"Sparrows can fly\")\n",
        "\n",
        "class Penguin(Bird):\n",
        "  def fly(self):\n",
        "    print(\"Penguins cannot fly\")\n",
        "\n",
        "b = Bird()\n",
        "b.fly()\n",
        "\n",
        "s = Sparrow()\n",
        "s.fly()\n",
        "\n",
        "p = Penguin()\n",
        "p.fly()"
      ],
      "metadata": {
        "colab": {
          "base_uri": "https://localhost:8080/"
        },
        "id": "lpwEnGi0RNQ1",
        "outputId": "f47c9634-90de-4564-b941-3f7b672dd3b9"
      },
      "execution_count": null,
      "outputs": [
        {
          "output_type": "stream",
          "name": "stdout",
          "text": [
            "Birds can fly\n",
            "Sparrows can fly\n",
            "Penguins cannot fly\n"
          ]
        }
      ]
    },
    {
      "cell_type": "markdown",
      "source": [
        "5. Write a program to demonstrate encapsulation by creating a class BankAccount with private attributes balance and methods to deposit, withdraw, and check balance."
      ],
      "metadata": {
        "id": "0LOGn6JWRebV"
      }
    },
    {
      "cell_type": "code",
      "source": [
        "class BankAccount():\n",
        "  def __init__(self, balance):\n",
        "    self.__balance = balance\n",
        "\n",
        "  def deposit(self, amount):\n",
        "    self.__balance += amount\n",
        "\n",
        "  def withdraw(self, amount):\n",
        "    if self.__balance >= amount:\n",
        "      self.__balance -= amount\n",
        "    else:\n",
        "      print(\"Insufficient balance\")\n",
        "\n",
        "  def check_balance(self):\n",
        "    return self.__balance\n",
        "\n",
        "\n",
        "acc = BankAccount(1000)\n",
        "acc.check_balance()\n",
        "acc.deposit(2000)\n",
        "acc.check_balance()"
      ],
      "metadata": {
        "colab": {
          "base_uri": "https://localhost:8080/"
        },
        "id": "mPQ9MTTLRg8d",
        "outputId": "d6364481-4c55-46e5-e322-b407302de611"
      },
      "execution_count": null,
      "outputs": [
        {
          "output_type": "execute_result",
          "data": {
            "text/plain": [
              "3000"
            ]
          },
          "metadata": {},
          "execution_count": 35
        }
      ]
    },
    {
      "cell_type": "markdown",
      "source": [
        "6. Demonstrate runtime polymorphism using a method play() in a base class Instrument. Derive classes Guitar and Piano that implement their own version of play()."
      ],
      "metadata": {
        "id": "_UQFwRy_SHHs"
      }
    },
    {
      "cell_type": "code",
      "source": [
        "class Instrument():\n",
        "  def play(self):\n",
        "    print(\"instument is playing\")\n",
        "\n",
        "class Guitar(Instrument):\n",
        "  def play(self):\n",
        "    print(\"Guitar is playing\")\n",
        "\n",
        "class Piano(Instrument):\n",
        "  def play(self):\n",
        "    print(\"Piano is playing\")\n",
        "\n",
        "i = Instrument()\n",
        "i.play()\n",
        "\n",
        "g = Guitar()\n",
        "g.play()"
      ],
      "metadata": {
        "colab": {
          "base_uri": "https://localhost:8080/"
        },
        "id": "vquYa8BDSJUp",
        "outputId": "63d56791-b052-4efd-b2fc-ca2af1b3615d"
      },
      "execution_count": null,
      "outputs": [
        {
          "output_type": "stream",
          "name": "stdout",
          "text": [
            "instument is playing\n",
            "Guitar is playing\n"
          ]
        }
      ]
    },
    {
      "cell_type": "markdown",
      "source": [
        "7. Create a class MathOperations with a class method add_numbers() to add two numbers and a static method subtract_numbers() to subtract two numbers."
      ],
      "metadata": {
        "id": "M8a5T2kOk7ML"
      }
    },
    {
      "cell_type": "code",
      "source": [
        "class MathOperations():\n",
        "  @classmethod\n",
        "  def add_numbers(cls, a, b):\n",
        "    return a + b\n",
        "\n",
        "  @staticmethod\n",
        "  def subtract_numbers(a, b):\n",
        "    return a - b\n",
        "\n",
        "MathOperations.add_numbers(2,5)\n"
      ],
      "metadata": {
        "colab": {
          "base_uri": "https://localhost:8080/"
        },
        "id": "Lao0hXQKlJzi",
        "outputId": "3066a0b1-12f1-4806-eba3-4827598151a1"
      },
      "execution_count": null,
      "outputs": [
        {
          "output_type": "execute_result",
          "data": {
            "text/plain": [
              "7"
            ]
          },
          "metadata": {},
          "execution_count": 10
        }
      ]
    },
    {
      "cell_type": "code",
      "source": [
        "MathOperations.subtract_numbers(2,5)"
      ],
      "metadata": {
        "colab": {
          "base_uri": "https://localhost:8080/"
        },
        "id": "b0mo25JhmLuD",
        "outputId": "5e30ea39-aef2-40af-c429-6fd88926f69d"
      },
      "execution_count": null,
      "outputs": [
        {
          "output_type": "execute_result",
          "data": {
            "text/plain": [
              "-3"
            ]
          },
          "metadata": {},
          "execution_count": 11
        }
      ]
    },
    {
      "cell_type": "markdown",
      "source": [
        "8. Implement a class Person with a class method to count the total number of persons created."
      ],
      "metadata": {
        "id": "EZ-KcPAHmSst"
      }
    },
    {
      "cell_type": "code",
      "source": [
        "class person():\n",
        "\n",
        "  count = 0\n",
        "\n",
        "  def __init__(self, name, age):\n",
        "    self.name = name\n",
        "    self.age = age\n",
        "    person.count += 1\n",
        "\n",
        "  @classmethod\n",
        "  def get_count(cls):\n",
        "    return person.count\n",
        "\n",
        "person1 = person(\"Bhagirath\", 24)\n",
        "person2 = person(\"Bhagirath\", 24)\n",
        "person3 = person(\"Bhagirath\", 24)\n",
        "person.get_count()"
      ],
      "metadata": {
        "colab": {
          "base_uri": "https://localhost:8080/"
        },
        "id": "xOs55sCZmYEU",
        "outputId": "3ecc449b-59bf-40ba-eb1a-b98f67db91cc"
      },
      "execution_count": null,
      "outputs": [
        {
          "output_type": "execute_result",
          "data": {
            "text/plain": [
              "3"
            ]
          },
          "metadata": {},
          "execution_count": 35
        }
      ]
    },
    {
      "cell_type": "markdown",
      "source": [
        "9. Write a class Fraction with attributes numerator and denominator. Override the str method to display the fraction as \"numerator/denominator\"."
      ],
      "metadata": {
        "id": "j4iv5tqZobJA"
      }
    },
    {
      "cell_type": "code",
      "source": [
        "class Fraction():\n",
        "  def __init__(self, numerator, denominator):\n",
        "    self.numerator = numerator\n",
        "    self.denominator = denominator\n",
        "\n",
        "  def __str__(self):\n",
        "    return f\"{self.numerator}/{self.denominator}\"\n",
        "\n",
        "f = Fraction(3, 4)\n",
        "f.__str__()"
      ],
      "metadata": {
        "colab": {
          "base_uri": "https://localhost:8080/",
          "height": 36
        },
        "id": "48J1waPWmXdH",
        "outputId": "86df783f-f822-46fc-c9ea-14414af297fe"
      },
      "execution_count": null,
      "outputs": [
        {
          "output_type": "execute_result",
          "data": {
            "text/plain": [
              "'3/4'"
            ],
            "application/vnd.google.colaboratory.intrinsic+json": {
              "type": "string"
            }
          },
          "metadata": {},
          "execution_count": 38
        }
      ]
    },
    {
      "cell_type": "markdown",
      "source": [
        "10. Demonstrate operator overloading by creating a class Vector and overriding the add method to add two vectors."
      ],
      "metadata": {
        "id": "3Xpoc-HDoy7c"
      }
    },
    {
      "cell_type": "code",
      "source": [
        "Demonstrate operator overloading by creating a class Vector and overriding the add method to add two vectors.\n",
        "\n",
        "class vactor():\n",
        "  def __init__(self, x, y):\n",
        "    self.x = x\n",
        "    self.y = y\n",
        "\n",
        "  def __add__(self, other):\n",
        "    return vactor(self.x + other.x, self.y + other.y)"
      ],
      "metadata": {
        "id": "eK4v4hgMo8H6"
      },
      "execution_count": null,
      "outputs": []
    },
    {
      "cell_type": "markdown",
      "source": [
        "11. Create a class Person with attributes name and age. Add a method greet() that prints \"Hello, my name is {name} and I am {age} years old.\""
      ],
      "metadata": {
        "id": "3S8Yew03XYsT"
      }
    },
    {
      "cell_type": "code",
      "source": [
        "class Person():\n",
        "\n",
        "  def __init__(self, name, age):\n",
        "    self.name = name\n",
        "    self.age = age\n",
        "\n",
        "  def greet(self):\n",
        "    print(f\"Hello, my name is {self.name} and I am {self.age} years old.\")\n",
        "\n",
        "p = Person(\"Bhagirath\", 24)\n",
        "p.greet()"
      ],
      "metadata": {
        "colab": {
          "base_uri": "https://localhost:8080/"
        },
        "id": "bHeE11k_XoR-",
        "outputId": "c1de641f-423c-4691-c6b1-ea6b1ec0261c"
      },
      "execution_count": 2,
      "outputs": [
        {
          "output_type": "stream",
          "name": "stdout",
          "text": [
            "Hello, my name is Bhagirath and I am 24 years old.\n"
          ]
        }
      ]
    },
    {
      "cell_type": "markdown",
      "source": [
        "12. Implement a class Student with attributes name and grades. Create a method average_grade() to compute the average of the grades."
      ],
      "metadata": {
        "id": "X7-Zq1A9uXtM"
      }
    },
    {
      "cell_type": "code",
      "source": [
        "class Student():\n",
        "  def __init__(self, name, grades):\n",
        "    self.name = name\n",
        "    self.grades = grades\n",
        "\n",
        "  def average_grade(self):\n",
        "    return sum(self.grades) / len(self.grades)\n",
        "\n",
        "s = Student(\"Bhagirath\", [80, 90, 75, 95])\n",
        "s.average_grade()\n"
      ],
      "metadata": {
        "colab": {
          "base_uri": "https://localhost:8080/"
        },
        "id": "CaJ77DHvuHGg",
        "outputId": "21a403f7-6b75-4846-f2a7-73bc5f78bc45"
      },
      "execution_count": 3,
      "outputs": [
        {
          "output_type": "execute_result",
          "data": {
            "text/plain": [
              "85.0"
            ]
          },
          "metadata": {},
          "execution_count": 3
        }
      ]
    },
    {
      "cell_type": "markdown",
      "source": [
        "13. Create a class Rectangle with methods set_dimensions() to set the dimensions and area() to calculate the area."
      ],
      "metadata": {
        "id": "H7ygtck-uy9w"
      }
    },
    {
      "cell_type": "code",
      "source": [
        "class Rectangle():\n",
        "  def __init__(self, length, width):\n",
        "    self.length = length\n",
        "    self.width = width\n",
        "\n",
        "  def set_dimensions(self, length, width):\n",
        "    self.length = length\n",
        "    self.width = width\n",
        "\n",
        "  def area(self):\n",
        "    return self.length * self.width\n",
        "\n",
        "r = Rectangle(4, 5)\n",
        "r.area()"
      ],
      "metadata": {
        "colab": {
          "base_uri": "https://localhost:8080/"
        },
        "id": "hl8ZFKK4u28K",
        "outputId": "92bb19a4-9a1c-4613-ecf6-d3f58cc1ba11"
      },
      "execution_count": 4,
      "outputs": [
        {
          "output_type": "execute_result",
          "data": {
            "text/plain": [
              "20"
            ]
          },
          "metadata": {},
          "execution_count": 4
        }
      ]
    },
    {
      "cell_type": "markdown",
      "source": [
        "14. Create a class Employee with a method calculate_salary() that computes the salary based on hours worked and hourly rate. Create a derived class Manager that adds a bonus to the salary."
      ],
      "metadata": {
        "id": "y_L14b-hv0H_"
      }
    },
    {
      "cell_type": "code",
      "source": [
        "class Employee():\n",
        "\n",
        "  def __init__(self, name, hours_worked, hourly_rate):\n",
        "    self.name = name\n",
        "    self.hours_worked = hours_worked\n",
        "    self.hourly_rate = hourly_rate\n",
        "\n",
        "  def calculate_salary(self):\n",
        "    return self.hours_worked * self.hourly_rate\n",
        "\n",
        "class Manager(Employee):\n",
        "\n",
        "  def __init__(self, name, hours_worked, hourly_rate, bonus):\n",
        "    super().__init__(name, hours_worked, hourly_rate)\n",
        "    self.bonus = bonus\n",
        "\n",
        "  def calculate_salary(self):\n",
        "    return super().calculate_salary() + self.bonus\n",
        "\n",
        "m = Manager(\"Bhagirath\", 40, 50, 1000)\n",
        "m.calculate_salary()\n"
      ],
      "metadata": {
        "colab": {
          "base_uri": "https://localhost:8080/"
        },
        "id": "s5Oscj5Dv1lT",
        "outputId": "745acda5-2626-4e25-ffb2-f7466a3a6887"
      },
      "execution_count": 5,
      "outputs": [
        {
          "output_type": "execute_result",
          "data": {
            "text/plain": [
              "3000"
            ]
          },
          "metadata": {},
          "execution_count": 5
        }
      ]
    },
    {
      "cell_type": "markdown",
      "source": [
        "15. Create a class Product with attributes name, price, and quantity. Implement a method total_price() that calculates the total price of the product."
      ],
      "metadata": {
        "id": "0I4vmJEZxpu-"
      }
    },
    {
      "cell_type": "code",
      "source": [
        "class Product():\n",
        "\n",
        "  def __init__(self, name, price, quantity):\n",
        "    self.name = name\n",
        "    self.price = price\n",
        "    self.quantity = quantity\n",
        "\n",
        "  def total_price(self):\n",
        "    return self.price * self.quantity\n",
        "\n",
        "p = Product(\"Pen\", 10, 5)\n",
        "p.total_price()"
      ],
      "metadata": {
        "colab": {
          "base_uri": "https://localhost:8080/"
        },
        "id": "ItOhiC5JxvnX",
        "outputId": "af2f10e3-f065-4ca1-f504-6355a68e030f"
      },
      "execution_count": 6,
      "outputs": [
        {
          "output_type": "execute_result",
          "data": {
            "text/plain": [
              "50"
            ]
          },
          "metadata": {},
          "execution_count": 6
        }
      ]
    },
    {
      "cell_type": "markdown",
      "source": [
        "16. Create a class Animal with an abstract method sound(). Create two derived classes Cow and Sheep that implement the sound() method."
      ],
      "metadata": {
        "id": "aNuCoux4yUys"
      }
    },
    {
      "cell_type": "code",
      "source": [
        "from re import S\n",
        "class Animal():\n",
        "\n",
        "  def sound(self):\n",
        "    print(\"Animal speaks\")\n",
        "\n",
        "class Cow(Animal):\n",
        "  def sound(self):\n",
        "    return \"Moo\"\n",
        "\n",
        "class Sheep(Animal):\n",
        "  def sound(self):\n",
        "    return \"Baaa\"\n",
        "\n",
        "c = Cow()\n",
        "c.sound()\n"
      ],
      "metadata": {
        "colab": {
          "base_uri": "https://localhost:8080/",
          "height": 36
        },
        "id": "k8VpQu1RyX6Y",
        "outputId": "f8ea9e0f-a510-4ef3-ba36-810dfddb6927"
      },
      "execution_count": 12,
      "outputs": [
        {
          "output_type": "execute_result",
          "data": {
            "text/plain": [
              "'Moo'"
            ],
            "application/vnd.google.colaboratory.intrinsic+json": {
              "type": "string"
            }
          },
          "metadata": {},
          "execution_count": 12
        }
      ]
    },
    {
      "cell_type": "code",
      "source": [
        "s = Sheep()\n",
        "s.sound()"
      ],
      "metadata": {
        "colab": {
          "base_uri": "https://localhost:8080/",
          "height": 36
        },
        "id": "To2wXBnTzlDD",
        "outputId": "4fb0e0ab-07e9-4581-b11b-77c6a47b65d0"
      },
      "execution_count": 13,
      "outputs": [
        {
          "output_type": "execute_result",
          "data": {
            "text/plain": [
              "'Baaa'"
            ],
            "application/vnd.google.colaboratory.intrinsic+json": {
              "type": "string"
            }
          },
          "metadata": {},
          "execution_count": 13
        }
      ]
    },
    {
      "cell_type": "markdown",
      "source": [
        "17. Create a class Book with attributes title, author, and year_published. Add a method get_book_info() that returns a formatted string with the book's details."
      ],
      "metadata": {
        "id": "ZIVHqy5yzoD_"
      }
    },
    {
      "cell_type": "code",
      "source": [
        "class Bool():\n",
        "  def __init__(self, title, author, year_published):\n",
        "    self.title = title\n",
        "    self.author = author\n",
        "    self.year_published = year_published\n",
        "\n",
        "  def get_book_info(self):\n",
        "    return f\"{self.title} by {self.author} published in {self.year_published}\"\n",
        "\n",
        "b = Bool(\"The Alchemist\", \"Paulo Coelho\", 1988)\n",
        "b.get_book_info()\n"
      ],
      "metadata": {
        "colab": {
          "base_uri": "https://localhost:8080/",
          "height": 36
        },
        "id": "gsQ_3aXCzrX9",
        "outputId": "540d8a1e-b971-4873-de14-9de331564949"
      },
      "execution_count": 15,
      "outputs": [
        {
          "output_type": "execute_result",
          "data": {
            "text/plain": [
              "'The Alchemist by Paulo Coelho published in 1988'"
            ],
            "application/vnd.google.colaboratory.intrinsic+json": {
              "type": "string"
            }
          },
          "metadata": {},
          "execution_count": 15
        }
      ]
    },
    {
      "cell_type": "markdown",
      "source": [
        "18. Create a class House with attributes address and price. Create a derived class Mansion that adds an attribute number_of_rooms."
      ],
      "metadata": {
        "id": "oZo18UST0E8k"
      }
    },
    {
      "cell_type": "code",
      "source": [
        "class House():\n",
        "  def __init__(self, address, price):\n",
        "    self.address = address\n",
        "    self.price = price\n",
        "\n",
        "class Mansion(House):\n",
        "  def __init__(self, address, price, number_of_rooms):\n",
        "    super().__init__(address, price)\n",
        "\n",
        "    self.number_of_rooms = number_of_rooms\n",
        "\n",
        "\n",
        "  def get_house_info(self):\n",
        "    return f\"{self.address} for {self.price} with {self.number_of_rooms} rooms\"\n",
        "\n",
        "\n",
        "m = Mansion(\"123 Main St\", 25000, 8)\n",
        "m.get_house_info()"
      ],
      "metadata": {
        "colab": {
          "base_uri": "https://localhost:8080/",
          "height": 36
        },
        "id": "7Xk_PwPe0JT_",
        "outputId": "3db58981-6563-4c01-8518-aa19600ca8fd"
      },
      "execution_count": 18,
      "outputs": [
        {
          "output_type": "execute_result",
          "data": {
            "text/plain": [
              "'123 Main St for 25000 with 8 rooms'"
            ],
            "application/vnd.google.colaboratory.intrinsic+json": {
              "type": "string"
            }
          },
          "metadata": {},
          "execution_count": 18
        }
      ]
    }
  ]
}