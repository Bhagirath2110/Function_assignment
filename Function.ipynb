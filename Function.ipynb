{
  "nbformat": 4,
  "nbformat_minor": 0,
  "metadata": {
    "colab": {
      "provenance": []
    },
    "kernelspec": {
      "name": "python3",
      "display_name": "Python 3"
    },
    "language_info": {
      "name": "python"
    }
  },
  "cells": [
    {
      "cell_type": "markdown",
      "source": [
        "# 1. What is the difference between a function and a method in Python?\n",
        "\n",
        "1. Definition\n",
        "Function: A function is a block of code that performs a specific task and is defined using the def keyword. It is independent of any object and can be called directly."
      ],
      "metadata": {
        "id": "WGl0yzIt9t44"
      }
    },
    {
      "cell_type": "code",
      "execution_count": null,
      "metadata": {
        "colab": {
          "base_uri": "https://localhost:8080/"
        },
        "id": "iIWJqugo9mK1",
        "outputId": "a56714e2-0c7c-4f99-bb0a-ed2701f33a9f"
      },
      "outputs": [
        {
          "output_type": "stream",
          "name": "stdout",
          "text": [
            "Hello, Bhagirath!\n"
          ]
        }
      ],
      "source": [
        "def greet(name):\n",
        "    return f\"Hello, {name}!\"\n",
        "print(greet(\"Bhagirath\"))\n"
      ]
    },
    {
      "cell_type": "markdown",
      "source": [
        "What is a Method?\n",
        "\n",
        "A method is like a special function, but it belongs to an object. You use it with things like strings, lists, or objects you create in a class."
      ],
      "metadata": {
        "id": "2ta4hqvw9sfo"
      }
    },
    {
      "cell_type": "code",
      "source": [
        "text = \"hello\"\n",
        "print(text.upper())  # .upper() is a method of string objects\n",
        "\n"
      ],
      "metadata": {
        "colab": {
          "base_uri": "https://localhost:8080/"
        },
        "id": "EE3nLURNBmUs",
        "outputId": "a85c3f8e-e47e-4a40-eb22-ca320f304124"
      },
      "execution_count": null,
      "outputs": [
        {
          "output_type": "stream",
          "name": "stdout",
          "text": [
            "HELLO\n"
          ]
        }
      ]
    },
    {
      "cell_type": "markdown",
      "source": [
        "# 2. Explain the concept of function arguments and parameters in Python.\n",
        "\n",
        "Parameters: These are like placeholders or variables that you define in a function. They are written in the function definition and act as input for the function.\n",
        "\n",
        "Arguments: These are the actual values you provide to the function when you call it. They \"fill in\" the parameters."
      ],
      "metadata": {
        "id": "DxsG6-qdCGB8"
      }
    },
    {
      "cell_type": "code",
      "source": [
        "# Function with parameters\n",
        "def greet(name):\n",
        "    print(f\"Hello, {name}!\")  # 'name' is the parameter\n",
        "\n",
        "# Calling the function with an argument\n",
        "greet(\"Bhagirath\")  # \"Bhagirath\" is the argument\n",
        "\n",
        "\n"
      ],
      "metadata": {
        "colab": {
          "base_uri": "https://localhost:8080/"
        },
        "id": "x-Z_M8A-CvEd",
        "outputId": "35d15d77-c9e6-4bf4-fd3e-530eba89ba53"
      },
      "execution_count": null,
      "outputs": [
        {
          "output_type": "stream",
          "name": "stdout",
          "text": [
            "Hello, Bhagirath!\n"
          ]
        }
      ]
    },
    {
      "cell_type": "markdown",
      "source": [
        "# 3. What are the different ways to define and call a function in Python?\n",
        "\n",
        " 1. Standard Function Definition\n",
        "\n",
        "Functions are typically defined using the def keyword."
      ],
      "metadata": {
        "id": "vWQ3T8BOahdn"
      }
    },
    {
      "cell_type": "code",
      "source": [
        "def greet(name):\n",
        "    return f\"Hello, {name}!\"\n",
        "\n",
        "# Calling the function\n",
        "print(greet(\"Alice\"))\n"
      ],
      "metadata": {
        "colab": {
          "base_uri": "https://localhost:8080/"
        },
        "id": "cyOVSBTRag-Z",
        "outputId": "43b085d1-9026-4a71-b48b-e049d09925fa"
      },
      "execution_count": null,
      "outputs": [
        {
          "output_type": "stream",
          "name": "stdout",
          "text": [
            "Hello, Alice!\n"
          ]
        }
      ]
    },
    {
      "cell_type": "markdown",
      "source": [
        " 2. Lambda Functions (Anonymous Functions)\n",
        "\n",
        "A function can be defined using the lambda keyword for short, single-expression functions."
      ],
      "metadata": {
        "id": "aSzlKMwyiz2J"
      }
    },
    {
      "cell_type": "code",
      "source": [
        "# Defining a lambda function\n",
        "square = lambda x: x ** 2\n",
        "\n",
        "# Calling the lambda function\n",
        "print(square(5))  # Output: 25\n"
      ],
      "metadata": {
        "colab": {
          "base_uri": "https://localhost:8080/"
        },
        "id": "_YTlyQdmi72E",
        "outputId": "3b3855fc-60f3-4274-8b3f-cf9df62658ca"
      },
      "execution_count": null,
      "outputs": [
        {
          "output_type": "stream",
          "name": "stdout",
          "text": [
            "25\n"
          ]
        }
      ]
    },
    {
      "cell_type": "markdown",
      "source": [
        "3. Built-in Functions\n",
        "\n",
        "Python provides many built-in functions like len, sum, etc., that can be called directly."
      ],
      "metadata": {
        "id": "FV0oSFPBjDqj"
      }
    },
    {
      "cell_type": "code",
      "source": [
        "# Calling a built-in function\n",
        "numbers = [1, 2, 3, 4]\n",
        "print(len(numbers))  # Output: 4\n"
      ],
      "metadata": {
        "colab": {
          "base_uri": "https://localhost:8080/"
        },
        "id": "WiNIvAoVjEj2",
        "outputId": "c0b724ee-6870-43dd-83d8-182be40e0510"
      },
      "execution_count": null,
      "outputs": [
        {
          "output_type": "stream",
          "name": "stdout",
          "text": [
            "4\n"
          ]
        }
      ]
    },
    {
      "cell_type": "markdown",
      "source": [
        "4. Functions with Default Arguments\n",
        "\n",
        "Functions can have default argument values."
      ],
      "metadata": {
        "id": "YFIWXQV2jHIc"
      }
    },
    {
      "cell_type": "code",
      "source": [
        "def greet(name=\"Guest\"):\n",
        "    return f\"Hello, {name}!\"\n",
        "\n",
        "# Calling with and without arguments\n",
        "print(greet(\"Alice\"))\n",
        "print(greet())\n"
      ],
      "metadata": {
        "colab": {
          "base_uri": "https://localhost:8080/"
        },
        "id": "8FVn6GFIjLPJ",
        "outputId": "47f7ba53-8236-4b20-ca81-686c1c90a7f6"
      },
      "execution_count": null,
      "outputs": [
        {
          "output_type": "stream",
          "name": "stdout",
          "text": [
            "Hello, Alice!\n",
            "Hello, Guest!\n"
          ]
        }
      ]
    },
    {
      "cell_type": "markdown",
      "source": [
        "5. Functions with Variable-Length Arguments\n",
        "\n",
        "Python allows functions to accept variable-length arguments using *args and **kwargs."
      ],
      "metadata": {
        "id": "b72sEUw_jSpD"
      }
    },
    {
      "cell_type": "code",
      "source": [
        "def sum1(*args):\n",
        "    s=0\n",
        "    for i in args:\n",
        "        s+=i\n",
        "    return s\n",
        "print(sum1(1,2,3,4))\n"
      ],
      "metadata": {
        "colab": {
          "base_uri": "https://localhost:8080/"
        },
        "id": "rPTq84CljV5n",
        "outputId": "ff8f3e89-722a-49d7-aa17-a1320555d9be"
      },
      "execution_count": null,
      "outputs": [
        {
          "output_type": "stream",
          "name": "stdout",
          "text": [
            "10\n"
          ]
        }
      ]
    },
    {
      "cell_type": "markdown",
      "source": [
        "6. Higher-Order Functions\n",
        "\n",
        "Functions can accept other functions as arguments or return functions."
      ],
      "metadata": {
        "id": "pgeRQoShj9iZ"
      }
    },
    {
      "cell_type": "code",
      "source": [
        "def apply_function(func, value):\n",
        "    return func(value)\n",
        "\n",
        "result = apply_function(lambda x: x ** 2, 5)\n",
        "print(result)"
      ],
      "metadata": {
        "colab": {
          "base_uri": "https://localhost:8080/"
        },
        "id": "mXUzBUUGj-fe",
        "outputId": "f255b2ca-ae9d-492d-d379-6d4c0d590caf"
      },
      "execution_count": null,
      "outputs": [
        {
          "output_type": "stream",
          "name": "stdout",
          "text": [
            "25\n"
          ]
        }
      ]
    },
    {
      "cell_type": "markdown",
      "source": [
        "7. Recursive Functions\n",
        "\n",
        "A function can call itself (recursion)."
      ],
      "metadata": {
        "id": "A7bCsVmIvzvS"
      }
    },
    {
      "cell_type": "code",
      "source": [
        "def factorial(n):\n",
        "    if n == 0:\n",
        "        return 1\n",
        "    return n * factorial(n - 1)\n",
        "\n",
        "print(factorial(5))"
      ],
      "metadata": {
        "colab": {
          "base_uri": "https://localhost:8080/"
        },
        "id": "4Iw-IKl6Omf3",
        "outputId": "6c88aae3-e20b-4eba-fdbc-77db59f285bc"
      },
      "execution_count": null,
      "outputs": [
        {
          "output_type": "stream",
          "name": "stdout",
          "text": [
            "120\n"
          ]
        }
      ]
    },
    {
      "cell_type": "markdown",
      "source": [
        "8. Methods (Functions inside Classes)\n",
        "\n",
        "Functions can be defined inside classes as methods."
      ],
      "metadata": {
        "id": "TrbKlkAnOvd3"
      }
    },
    {
      "cell_type": "code",
      "source": [
        "class Greeter:\n",
        "    def greet(self, name):\n",
        "        return f\"Hello, {name}!\"\n",
        "\n",
        "greeter = Greeter()\n",
        "print(greeter.greet(\"Alice\"))"
      ],
      "metadata": {
        "colab": {
          "base_uri": "https://localhost:8080/"
        },
        "id": "HtG5ErCVOwCk",
        "outputId": "ede77a59-6c41-4270-ab5c-43e4962296e8"
      },
      "execution_count": null,
      "outputs": [
        {
          "output_type": "stream",
          "name": "stdout",
          "text": [
            "Hello, Alice!\n"
          ]
        }
      ]
    },
    {
      "cell_type": "markdown",
      "source": [
        "9. Generator Functions\n",
        "\n",
        "Functions that yield values instead of returning them."
      ],
      "metadata": {
        "id": "ZYexCkzQO3dc"
      }
    },
    {
      "cell_type": "code",
      "source": [
        "def generate_numbers(n):\n",
        "    for i in range(n):\n",
        "        yield i\n",
        "\n",
        "for number in generate_numbers(5):\n",
        "    print(number)"
      ],
      "metadata": {
        "id": "h3Txr1TdO4B2"
      },
      "execution_count": null,
      "outputs": []
    },
    {
      "cell_type": "markdown",
      "source": [
        "#4. What is the purpose of the `return` statement in a Python function?"
      ],
      "metadata": {
        "id": "yvnneRTPPn1Q"
      }
    },
    {
      "cell_type": "markdown",
      "source": [
        "The return statement in Python exits a function and sends a value back to the caller. It allows functions to return results, end execution, and return multiple values."
      ],
      "metadata": {
        "id": "xkiBlazUY1h3"
      }
    },
    {
      "cell_type": "code",
      "source": [
        "def square(num):\n",
        "    return num * num\n",
        "\n",
        "result = square(4)\n",
        "print(result)  # Output: 16"
      ],
      "metadata": {
        "colab": {
          "base_uri": "https://localhost:8080/"
        },
        "id": "6K-B4NN_ZBo5",
        "outputId": "23adf2bc-a336-4f67-e395-09837ef19138"
      },
      "execution_count": null,
      "outputs": [
        {
          "output_type": "stream",
          "name": "stdout",
          "text": [
            "16\n"
          ]
        }
      ]
    },
    {
      "cell_type": "markdown",
      "source": [
        "#5. What are iterators in Python and how do they differ from iterables?\n",
        "\n",
        "1. Iterables\n",
        "\n",
        "An iterable is any object in Python that can return an iterator. It has the __iter__() method and can be looped over using a for loop.\n",
        "Examples: Lists, tuples, sets, dictionaries, strings, etc."
      ],
      "metadata": {
        "id": "2gjGLePnZIhF"
      }
    },
    {
      "cell_type": "code",
      "source": [
        "numbers = [1, 2, 3]\n",
        "for num in numbers:\n",
        "    print(num)"
      ],
      "metadata": {
        "colab": {
          "base_uri": "https://localhost:8080/"
        },
        "id": "dlMwB1irhyzi",
        "outputId": "8269c138-e4b7-4341-ba0a-caaaea3f2f74"
      },
      "execution_count": null,
      "outputs": [
        {
          "output_type": "stream",
          "name": "stdout",
          "text": [
            "1\n",
            "2\n",
            "3\n"
          ]
        }
      ]
    },
    {
      "cell_type": "markdown",
      "source": [
        "2. Iterators\n",
        "\n",
        "An iterator is an object that produces values one at a time using the __next__() method. It remembers its state between iterations and raises StopIteration when exhausted."
      ],
      "metadata": {
        "id": "hxtBSb41iT6s"
      }
    },
    {
      "cell_type": "code",
      "source": [
        "numbers = iter([1, 2, 3])  # Using iter() to get an iterator\n",
        "\n",
        "print(next(numbers))  # Output: 1\n",
        "print(next(numbers))  # Output: 2\n",
        "print(next(numbers))  # Output: 3\n",
        "# next(numbers)  # Raises StopIteration"
      ],
      "metadata": {
        "colab": {
          "base_uri": "https://localhost:8080/"
        },
        "id": "9HUIm6zBibFc",
        "outputId": "72ca211c-deee-466a-9285-c93723c7065f"
      },
      "execution_count": null,
      "outputs": [
        {
          "output_type": "stream",
          "name": "stdout",
          "text": [
            "1\n",
            "2\n",
            "3\n"
          ]
        }
      ]
    },
    {
      "cell_type": "markdown",
      "source": [
        "#6. Explain the concept of generators in Python and how they are defined.\n",
        "\n",
        "A generator is a special type of iterator that allows you to generate values lazily using the yield keyword instead of returning them all at once. This makes generators more memory-efficient than regular functions, especially when working with large datasets.\n",
        "\n",
        "Example:"
      ],
      "metadata": {
        "id": "PRkWV-ilirWH"
      }
    },
    {
      "cell_type": "code",
      "source": [
        "def count_up_to(n):\n",
        "    count = 1\n",
        "    while count <= n:\n",
        "        yield count\n",
        "        count += 1\n",
        "\n",
        "# Using the generator\n",
        "counter = count_up_to(3)\n",
        "print(next(counter))\n",
        "print(next(counter))\n",
        "print(next(counter))"
      ],
      "metadata": {
        "colab": {
          "base_uri": "https://localhost:8080/"
        },
        "id": "1VaDKdlCyDsF",
        "outputId": "7df6d36f-2473-45f5-ca53-cdfc54abb0c7"
      },
      "execution_count": null,
      "outputs": [
        {
          "output_type": "stream",
          "name": "stdout",
          "text": [
            "1\n",
            "2\n",
            "3\n"
          ]
        }
      ]
    },
    {
      "cell_type": "markdown",
      "source": [
        "#7. What are the advantages of using generators over regular functions?\n",
        "\n",
        "Advantages of Using Generators Over Regular Functions\n",
        "\n",
        "1. Memory Efficiency\n",
        "\n",
        "Generators produce values one at a time using yield, without storing the entire sequence in memory.\n",
        "\n",
        "Useful for large datasets like reading big files line by line."
      ],
      "metadata": {
        "id": "czktaY_syn9w"
      }
    },
    {
      "cell_type": "code",
      "source": [
        "def read_large_file(file_path):\n",
        "    with open(file_path) as file:\n",
        "        for line in file:\n",
        "            yield line  # Reads one line at a time"
      ],
      "metadata": {
        "id": "lt7wpAoFLZCD"
      },
      "execution_count": null,
      "outputs": []
    },
    {
      "cell_type": "markdown",
      "source": [
        "### 2. Faster Execution\n",
        "\n",
        "  Since generators don’t compute everything at once, they start working immediately.\n",
        "\n",
        "  Regular functions wait until all values are ready before returning.\n",
        "\n",
        "### 3. Easier to Use than Iterators\n",
        "\n",
        "  Regular iterators need extra code (__iter__(), __next__()).\n",
        "\n",
        "  Generators automatically remember their position and continue from where they left off."
      ],
      "metadata": {
        "id": "P4UwIKV_Pew3"
      }
    },
    {
      "cell_type": "code",
      "source": [
        "def count_up_to(n):\n",
        "    num = 1\n",
        "    while num <= n:\n",
        "        yield num\n",
        "        num += 1\n",
        "\n",
        "counter = count_up_to(3)\n",
        "print(next(counter))\n",
        "print(next(counter))\n"
      ],
      "metadata": {
        "colab": {
          "base_uri": "https://localhost:8080/"
        },
        "id": "ocQWumGzVymV",
        "outputId": "12412766-e592-4d52-eec9-5bc3bef287b7"
      },
      "execution_count": null,
      "outputs": [
        {
          "output_type": "stream",
          "name": "stdout",
          "text": [
            "1\n",
            "2\n"
          ]
        }
      ]
    },
    {
      "cell_type": "markdown",
      "source": [
        "### 4. Can Handle Infinite Sequences\n",
        "\n",
        "Regular functions can't return an infinite sequence (they'd run out of memory).\n",
        "\n",
        "Generators can produce infinite values without issues."
      ],
      "metadata": {
        "id": "8BGRQWZWWVbP"
      }
    },
    {
      "cell_type": "code",
      "source": [
        "def infinite_numbers():\n",
        "    num = 1\n",
        "    while True:\n",
        "        yield num\n",
        "        num += 1\n",
        "\n",
        "gen = infinite_numbers()\n",
        "print(next(gen))\n",
        "print(next(gen))\n",
        "print(next(gen))\n",
        "print(next(gen))\n"
      ],
      "metadata": {
        "colab": {
          "base_uri": "https://localhost:8080/"
        },
        "id": "LIJgYFnUWoMX",
        "outputId": "94c941e4-4fcf-4a95-b3b5-cf810fce94c9"
      },
      "execution_count": null,
      "outputs": [
        {
          "output_type": "stream",
          "name": "stdout",
          "text": [
            "1\n",
            "2\n",
            "3\n",
            "4\n"
          ]
        }
      ]
    },
    {
      "cell_type": "markdown",
      "source": [
        "# 8. What is a Lambda Function in Python?\n",
        "\n",
        "A lambda function is a small, anonymous (nameless) function in Python.\n",
        "It is used to write short, one-line functions without using the def keyword.\n",
        "\n",
        "Syntax:-\n",
        "\n",
        "lambda arguments: expression\n"
      ],
      "metadata": {
        "id": "EBjAyeHMXmRo"
      }
    },
    {
      "cell_type": "code",
      "source": [
        "square = lambda x: x * x\n",
        "(square(5))\n"
      ],
      "metadata": {
        "colab": {
          "base_uri": "https://localhost:8080/"
        },
        "id": "3LP04hdwX6Ec",
        "outputId": "f5a0bdfe-cb8c-40f1-a540-cde33d3e258e"
      },
      "execution_count": null,
      "outputs": [
        {
          "output_type": "execute_result",
          "data": {
            "text/plain": [
              "25"
            ]
          },
          "metadata": {},
          "execution_count": 4
        }
      ]
    },
    {
      "cell_type": "markdown",
      "source": [
        "# 9. What is map() in Python?\n",
        "\n",
        "The map() function is used to apply a function to every item in an iterable (like a list or tuple) and return a new iterable with the results.\n",
        "\n",
        "Syntax:-\n",
        "\n",
        "map(function, iterable)\n",
        "\n",
        "\n",
        "reason for use:-\n",
        "\n",
        "1. no need to write a loop\n",
        "2. make code short and clean\n",
        "3. works well with lamda function\n",
        "\n",
        "\n",
        "Example:-"
      ],
      "metadata": {
        "id": "LvQUhpJaYECf"
      }
    },
    {
      "cell_type": "code",
      "source": [
        "numbers = [1, 2, 3, 4]\n",
        "result = map(lambda x: x * 2, numbers)\n",
        "print(list(result))  # Output: [2, 4, 6, 8]\n"
      ],
      "metadata": {
        "colab": {
          "base_uri": "https://localhost:8080/"
        },
        "id": "mnuyDC_yYpwo",
        "outputId": "37ea7bbf-c132-4c25-f316-0ba434e8b3c8"
      },
      "execution_count": null,
      "outputs": [
        {
          "output_type": "stream",
          "name": "stdout",
          "text": [
            "[2, 4, 6, 8]\n"
          ]
        }
      ]
    },
    {
      "cell_type": "markdown",
      "source": [
        "# 10. What is the difference between `map()`, `reduce()`, and `filter()` functions in Python?\n",
        "\n",
        "1. map():-\n",
        "\n",
        "What it does: Applies a function to each item in an iterable.\n",
        "\n",
        "Returns: A new iterable with transformed items.\n",
        "\n",
        "2. filter()\n",
        "\n",
        "What it does: Filters items based on a condition (returns only True items).\n",
        "\n",
        "Returns: A new iterable with selected items.\n",
        "\n",
        "3. reduce()\n",
        "\n",
        "What it does: Combines all items into a single result using a function.\n",
        "\n",
        "Returns: A single value (not a list).\n",
        "\n",
        "\n"
      ],
      "metadata": {
        "id": "4ReTzC4MZ8uQ"
      }
    },
    {
      "cell_type": "code",
      "source": [
        "from functools import reduce\n",
        "\n",
        "nums = [1, 2, 3, 4]\n",
        "\n",
        "m = map(lambda x: x * 2, nums)\n",
        "print(list(m))\n",
        "\n",
        "f = filter(lambda x: x % 2 == 0, nums)\n",
        "print(list(f))\n",
        "\n",
        "r = reduce(lambda x, y: x + y, nums)\n",
        "print(r)\n"
      ],
      "metadata": {
        "colab": {
          "base_uri": "https://localhost:8080/"
        },
        "id": "fi8XVvATcuw8",
        "outputId": "92854b96-cf67-4cd7-ec51-714778de8d09"
      },
      "execution_count": null,
      "outputs": [
        {
          "output_type": "stream",
          "name": "stdout",
          "text": [
            "[2, 4, 6, 8]\n",
            "[2, 4]\n",
            "10\n"
          ]
        }
      ]
    },
    {
      "cell_type": "markdown",
      "source": [
        "# 11. Using pen & Paper write the internal mechanism for sum operation using  reduce function on this given list:[47,11,42,13];\n",
        "\n",
        "\n",
        "here i attached img drive link :-\n",
        "\n",
        "https://drive.google.com/file/d/1MlvqCiW85seg99hAtveVt6zPJ4rPUuLl/view?usp=drive_link"
      ],
      "metadata": {
        "id": "VqzH52bYdcW-"
      }
    },
    {
      "cell_type": "markdown",
      "source": [
        "# Practical que:-"
      ],
      "metadata": {
        "id": "kYN-snT7R7qj"
      }
    },
    {
      "cell_type": "markdown",
      "source": [
        "## 1. Write a Python function that takes a list of numbers as input and returns the sum of all even numbers in the list."
      ],
      "metadata": {
        "id": "Rg3j4QeXSEq9"
      }
    },
    {
      "cell_type": "code",
      "source": [
        "def sum_even_numbers(numbers):\n",
        "    sum = 0\n",
        "    for num in numbers:\n",
        "        if num % 2 == 0:\n",
        "            sum += num\n",
        "    return sum"
      ],
      "metadata": {
        "id": "Eabtt6HGSPx7"
      },
      "execution_count": null,
      "outputs": []
    },
    {
      "cell_type": "code",
      "source": [
        "number = [1,6,8,10,9,2,45]\n",
        "sum_even_numbers(number)"
      ],
      "metadata": {
        "colab": {
          "base_uri": "https://localhost:8080/"
        },
        "id": "glyG4ZoEUXaG",
        "outputId": "bafefbfa-4c91-42d4-cdcd-1457973679e9"
      },
      "execution_count": null,
      "outputs": [
        {
          "output_type": "execute_result",
          "data": {
            "text/plain": [
              "26"
            ]
          },
          "metadata": {},
          "execution_count": 5
        }
      ]
    },
    {
      "cell_type": "markdown",
      "source": [
        "## 2. Create a Python function that accepts a string and returns the reverse of that string."
      ],
      "metadata": {
        "id": "NluK5i4LUkVG"
      }
    },
    {
      "cell_type": "code",
      "source": [
        "def reverse_string(string):\n",
        "    return string[::-1]"
      ],
      "metadata": {
        "id": "V0P0aMYGUj_r"
      },
      "execution_count": null,
      "outputs": []
    },
    {
      "cell_type": "code",
      "source": [
        "reverse_string(\"Bhagirath\")"
      ],
      "metadata": {
        "colab": {
          "base_uri": "https://localhost:8080/",
          "height": 36
        },
        "id": "RMIJdKk2Uu_e",
        "outputId": "071882ba-27b3-446b-ab67-2df53c769353"
      },
      "execution_count": null,
      "outputs": [
        {
          "output_type": "execute_result",
          "data": {
            "text/plain": [
              "'htarigahB'"
            ],
            "application/vnd.google.colaboratory.intrinsic+json": {
              "type": "string"
            }
          },
          "metadata": {},
          "execution_count": 7
        }
      ]
    },
    {
      "cell_type": "markdown",
      "source": [
        "## 3. Implement a Python function that takes a list of integers and returns a new list containing the squares of each number."
      ],
      "metadata": {
        "id": "tu9s0ozMUzsn"
      }
    },
    {
      "cell_type": "code",
      "source": [
        "def square_numbers(numbers):\n",
        "  square = []\n",
        "  for num in numbers:\n",
        "      sq = num**2\n",
        "      square.append(sq)\n",
        "  return square\n"
      ],
      "metadata": {
        "id": "O0PWdwXOU6ym"
      },
      "execution_count": null,
      "outputs": []
    },
    {
      "cell_type": "code",
      "source": [
        "my_list = [1, 2, 3, 4]\n",
        "result = square_numbers(my_list)\n",
        "print(result)\n"
      ],
      "metadata": {
        "colab": {
          "base_uri": "https://localhost:8080/"
        },
        "id": "plDPFewiV_rM",
        "outputId": "d902e145-61e7-4362-8bb0-2c8cc8321c27"
      },
      "execution_count": null,
      "outputs": [
        {
          "output_type": "stream",
          "name": "stdout",
          "text": [
            "[1, 4, 9, 16]\n"
          ]
        }
      ]
    },
    {
      "cell_type": "markdown",
      "source": [
        "## 4. Write a Python function that checks if a given number is prime or not from 1 to 200."
      ],
      "metadata": {
        "id": "QTYfGC0eXmxW"
      }
    },
    {
      "cell_type": "code",
      "source": [
        "def is_prime(number):\n",
        "    if number <= 1:\n",
        "        return False\n",
        "    if number == 2 :\n",
        "        return True\n",
        "\n",
        "    for i in range(2,number):\n",
        "      if number % i == 0:\n",
        "          return False\n",
        "    return True"
      ],
      "metadata": {
        "id": "zkDzddaPXtfl"
      },
      "execution_count": null,
      "outputs": []
    },
    {
      "cell_type": "code",
      "source": [
        "is_prime(25)"
      ],
      "metadata": {
        "colab": {
          "base_uri": "https://localhost:8080/"
        },
        "id": "eJJOjoHhYuVv",
        "outputId": "75501806-bcfd-4ed9-d8c2-7cc8e2b8009d"
      },
      "execution_count": null,
      "outputs": [
        {
          "output_type": "execute_result",
          "data": {
            "text/plain": [
              "False"
            ]
          },
          "metadata": {},
          "execution_count": 26
        }
      ]
    },
    {
      "cell_type": "markdown",
      "source": [
        "## 5. Create an iterator class in Python that generates the Fibonacci sequence up to a specified number of terms."
      ],
      "metadata": {
        "id": "58ouw-LTaUN0"
      }
    },
    {
      "cell_type": "code",
      "source": [
        "def generator(n):\n",
        "  a = 0\n",
        "  b = 1\n",
        "  for i in range(n):\n",
        "    yield a\n",
        "    a,b = b,a+b"
      ],
      "metadata": {
        "id": "DdF7t0JPaYRD"
      },
      "execution_count": null,
      "outputs": []
    },
    {
      "cell_type": "code",
      "source": [
        "g = generator(10)"
      ],
      "metadata": {
        "id": "b1rJMA4dkmGK"
      },
      "execution_count": null,
      "outputs": []
    },
    {
      "cell_type": "code",
      "source": [
        "next(g)"
      ],
      "metadata": {
        "colab": {
          "base_uri": "https://localhost:8080/"
        },
        "id": "oMv5yEp7kzJh",
        "outputId": "eea88828-8454-4ad8-b6c9-d7861d284836"
      },
      "execution_count": null,
      "outputs": [
        {
          "output_type": "execute_result",
          "data": {
            "text/plain": [
              "0"
            ]
          },
          "metadata": {},
          "execution_count": 39
        }
      ]
    },
    {
      "cell_type": "code",
      "source": [
        "next(g)"
      ],
      "metadata": {
        "colab": {
          "base_uri": "https://localhost:8080/"
        },
        "id": "VDTV0o0ok9Bp",
        "outputId": "0e86051a-a752-4ea9-9927-2f8a3df1d9eb"
      },
      "execution_count": null,
      "outputs": [
        {
          "output_type": "execute_result",
          "data": {
            "text/plain": [
              "1"
            ]
          },
          "metadata": {},
          "execution_count": 40
        }
      ]
    },
    {
      "cell_type": "code",
      "source": [
        "next(g)\n"
      ],
      "metadata": {
        "colab": {
          "base_uri": "https://localhost:8080/"
        },
        "id": "dADqgh-Xk89A",
        "outputId": "9b8a6a6b-0a4c-4748-8825-92014db73f59"
      },
      "execution_count": null,
      "outputs": [
        {
          "output_type": "execute_result",
          "data": {
            "text/plain": [
              "1"
            ]
          },
          "metadata": {},
          "execution_count": 41
        }
      ]
    },
    {
      "cell_type": "code",
      "source": [
        "next(g)"
      ],
      "metadata": {
        "colab": {
          "base_uri": "https://localhost:8080/"
        },
        "id": "U_GKCDh-k83o",
        "outputId": "68eb0909-d49d-4402-867d-0c4646a2c305"
      },
      "execution_count": null,
      "outputs": [
        {
          "output_type": "execute_result",
          "data": {
            "text/plain": [
              "2"
            ]
          },
          "metadata": {},
          "execution_count": 42
        }
      ]
    },
    {
      "cell_type": "code",
      "source": [
        "next(g)"
      ],
      "metadata": {
        "colab": {
          "base_uri": "https://localhost:8080/"
        },
        "id": "TCPyLOANk8s4",
        "outputId": "26a99220-a6d7-43ca-9d03-7edd8054357a"
      },
      "execution_count": null,
      "outputs": [
        {
          "output_type": "execute_result",
          "data": {
            "text/plain": [
              "3"
            ]
          },
          "metadata": {},
          "execution_count": 43
        }
      ]
    },
    {
      "cell_type": "code",
      "source": [
        "next(g)"
      ],
      "metadata": {
        "colab": {
          "base_uri": "https://localhost:8080/"
        },
        "id": "LrNqI6aik8ip",
        "outputId": "cf0486cc-103a-40e1-b649-69059d3e3d40"
      },
      "execution_count": null,
      "outputs": [
        {
          "output_type": "execute_result",
          "data": {
            "text/plain": [
              "5"
            ]
          },
          "metadata": {},
          "execution_count": 44
        }
      ]
    },
    {
      "cell_type": "markdown",
      "source": [
        "## 6. Write a generator function in Python that yields the powers of 2 up to a given exponent."
      ],
      "metadata": {
        "id": "GRRxR810ldKn"
      }
    },
    {
      "cell_type": "code",
      "source": [
        "def power_of_two(exponent):\n",
        "    for i in range(exponent + 1):\n",
        "        yield 2 ** i"
      ],
      "metadata": {
        "id": "kwTkSRbol60r"
      },
      "execution_count": null,
      "outputs": []
    },
    {
      "cell_type": "code",
      "source": [
        "p = power_of_two(5)"
      ],
      "metadata": {
        "id": "c9pTUqJtwIOc"
      },
      "execution_count": null,
      "outputs": []
    },
    {
      "cell_type": "code",
      "source": [
        "next(p)"
      ],
      "metadata": {
        "colab": {
          "base_uri": "https://localhost:8080/"
        },
        "id": "8GZYxfGawMLX",
        "outputId": "87c0953b-2b60-4919-fba9-a9e0a5724aaa"
      },
      "execution_count": null,
      "outputs": [
        {
          "output_type": "execute_result",
          "data": {
            "text/plain": [
              "1"
            ]
          },
          "metadata": {},
          "execution_count": 49
        }
      ]
    },
    {
      "cell_type": "code",
      "source": [
        "next(p)"
      ],
      "metadata": {
        "colab": {
          "base_uri": "https://localhost:8080/"
        },
        "id": "y_u7u5ngwRi1",
        "outputId": "95bb1b5c-7b71-41b5-b9a1-bdc6062cb42a"
      },
      "execution_count": null,
      "outputs": [
        {
          "output_type": "execute_result",
          "data": {
            "text/plain": [
              "2"
            ]
          },
          "metadata": {},
          "execution_count": 50
        }
      ]
    },
    {
      "cell_type": "code",
      "source": [
        "next(p)"
      ],
      "metadata": {
        "colab": {
          "base_uri": "https://localhost:8080/"
        },
        "id": "EpanXJL5wVUm",
        "outputId": "bfeff20a-1046-4e92-d87f-8b8c3d8aad27"
      },
      "execution_count": null,
      "outputs": [
        {
          "output_type": "execute_result",
          "data": {
            "text/plain": [
              "4"
            ]
          },
          "metadata": {},
          "execution_count": 51
        }
      ]
    },
    {
      "cell_type": "code",
      "source": [
        "next(p)"
      ],
      "metadata": {
        "colab": {
          "base_uri": "https://localhost:8080/"
        },
        "id": "YxjE3tOZwWpU",
        "outputId": "ec47cade-ca89-418b-b000-7f8bee59d4f7"
      },
      "execution_count": null,
      "outputs": [
        {
          "output_type": "execute_result",
          "data": {
            "text/plain": [
              "8"
            ]
          },
          "metadata": {},
          "execution_count": 52
        }
      ]
    },
    {
      "cell_type": "code",
      "source": [
        "next(p)"
      ],
      "metadata": {
        "colab": {
          "base_uri": "https://localhost:8080/"
        },
        "id": "FZAbb-1fwX55",
        "outputId": "718c9e46-92fa-444a-c526-04b3450a9d07"
      },
      "execution_count": null,
      "outputs": [
        {
          "output_type": "execute_result",
          "data": {
            "text/plain": [
              "16"
            ]
          },
          "metadata": {},
          "execution_count": 53
        }
      ]
    },
    {
      "cell_type": "code",
      "source": [
        "next(p)"
      ],
      "metadata": {
        "colab": {
          "base_uri": "https://localhost:8080/"
        },
        "id": "p4iYGGGcwaHG",
        "outputId": "90c94dc4-61e2-4464-f4a7-6487dc940e8d"
      },
      "execution_count": null,
      "outputs": [
        {
          "output_type": "execute_result",
          "data": {
            "text/plain": [
              "32"
            ]
          },
          "metadata": {},
          "execution_count": 54
        }
      ]
    },
    {
      "cell_type": "markdown",
      "source": [
        "## 7. Implement a generator function that reads a file line by line and yields each line as a string."
      ],
      "metadata": {
        "id": "H19W4etdwxtg"
      }
    },
    {
      "cell_type": "code",
      "source": [
        "def read_file(file_path):\n",
        "    with open(file_path, 'r') as file:\n",
        "        for line in file:\n",
        "            yield line"
      ],
      "metadata": {
        "id": "9f9sNEv2w1kH"
      },
      "execution_count": null,
      "outputs": []
    },
    {
      "cell_type": "code",
      "source": [
        "read = read_file(\"/Test.txt\")"
      ],
      "metadata": {
        "id": "-NuNbgVp0_Q7"
      },
      "execution_count": null,
      "outputs": []
    },
    {
      "cell_type": "code",
      "source": [
        "next(read)"
      ],
      "metadata": {
        "colab": {
          "base_uri": "https://localhost:8080/",
          "height": 36
        },
        "id": "uPqvpjrI1sjY",
        "outputId": "4d845ef5-a3ee-4ef2-8bec-22bccd8c2059"
      },
      "execution_count": null,
      "outputs": [
        {
          "output_type": "execute_result",
          "data": {
            "text/plain": [
              "'\\ufeffThis is test file for generator\\n'"
            ],
            "application/vnd.google.colaboratory.intrinsic+json": {
              "type": "string"
            }
          },
          "metadata": {},
          "execution_count": 68
        }
      ]
    },
    {
      "cell_type": "code",
      "source": [
        "next(read)"
      ],
      "metadata": {
        "colab": {
          "base_uri": "https://localhost:8080/",
          "height": 36
        },
        "id": "XPk_PXH15KPU",
        "outputId": "1aa95cbe-27ef-49b2-dcce-5076030ac5e3"
      },
      "execution_count": null,
      "outputs": [
        {
          "output_type": "execute_result",
          "data": {
            "text/plain": [
              "'To read \\n'"
            ],
            "application/vnd.google.colaboratory.intrinsic+json": {
              "type": "string"
            }
          },
          "metadata": {},
          "execution_count": 69
        }
      ]
    },
    {
      "cell_type": "code",
      "source": [
        "next(read)"
      ],
      "metadata": {
        "colab": {
          "base_uri": "https://localhost:8080/",
          "height": 36
        },
        "id": "begMZbXv5OoI",
        "outputId": "10781593-271c-4dc1-cd4a-1fb4510f2abc"
      },
      "execution_count": null,
      "outputs": [
        {
          "output_type": "execute_result",
          "data": {
            "text/plain": [
              "'Line by line \\n'"
            ],
            "application/vnd.google.colaboratory.intrinsic+json": {
              "type": "string"
            }
          },
          "metadata": {},
          "execution_count": 70
        }
      ]
    },
    {
      "cell_type": "code",
      "source": [
        "next(read)"
      ],
      "metadata": {
        "colab": {
          "base_uri": "https://localhost:8080/",
          "height": 36
        },
        "id": "i47JkC5R5QGs",
        "outputId": "2886d36f-46ad-4ac2-94fe-6f9d770c0076"
      },
      "execution_count": null,
      "outputs": [
        {
          "output_type": "execute_result",
          "data": {
            "text/plain": [
              "'So read line by line'"
            ],
            "application/vnd.google.colaboratory.intrinsic+json": {
              "type": "string"
            }
          },
          "metadata": {},
          "execution_count": 71
        }
      ]
    },
    {
      "cell_type": "markdown",
      "source": [
        "## 8. Use a lambda function in Python to sort a list of tuples based on the second element of each tuple."
      ],
      "metadata": {
        "id": "0OBvx7b25VCE"
      }
    },
    {
      "cell_type": "code",
      "source": [
        "def sort_tuples(tuples):\n",
        "    return sorted(tuples, key=lambda x: x[1])"
      ],
      "metadata": {
        "id": "ph2Je4f15ZIg"
      },
      "execution_count": null,
      "outputs": []
    },
    {
      "cell_type": "code",
      "source": [
        "sort_tuples([(1, 5), (3, 2), (2, 8), (4, 1)])"
      ],
      "metadata": {
        "colab": {
          "base_uri": "https://localhost:8080/"
        },
        "id": "-J-54cFO51vP",
        "outputId": "56962147-330f-4e65-b76d-5ada481f59f9"
      },
      "execution_count": null,
      "outputs": [
        {
          "output_type": "execute_result",
          "data": {
            "text/plain": [
              "[(4, 1), (3, 2), (1, 5), (2, 8)]"
            ]
          },
          "metadata": {},
          "execution_count": 78
        }
      ]
    },
    {
      "cell_type": "markdown",
      "source": [
        "## 9. Write a Python program that uses `map()` to convert a list of temperatures from Celsius to Fahrenheit."
      ],
      "metadata": {
        "id": "elJsdZ9M6UVS"
      }
    },
    {
      "cell_type": "code",
      "source": [
        "celsius = input('enter celsius with coma')\n",
        "celsius = celsius.split(',')\n",
        "celsius = list(map(int,celsius))\n",
        "\n",
        "def celsius_to_fahrenheit(celsius):\n",
        "    return (celsius * 9/5) + 32\n",
        "\n",
        "list(map(celsius_to_fahrenheit,celsius))"
      ],
      "metadata": {
        "colab": {
          "base_uri": "https://localhost:8080/"
        },
        "id": "v1HIccwV6Xw6",
        "outputId": "8aa671c8-d366-41d5-fd1d-f821024997cc"
      },
      "execution_count": null,
      "outputs": [
        {
          "name": "stdout",
          "output_type": "stream",
          "text": [
            "enter celsius with coma10,20,40,50,60,80\n"
          ]
        },
        {
          "output_type": "execute_result",
          "data": {
            "text/plain": [
              "[50.0, 68.0, 104.0, 122.0, 140.0, 176.0]"
            ]
          },
          "metadata": {},
          "execution_count": 86
        }
      ]
    },
    {
      "cell_type": "markdown",
      "source": [
        "## 10. Create a Python program that uses `filter()` to remove all the vowels from a given string."
      ],
      "metadata": {
        "id": "azzc3XdpAGe7"
      }
    },
    {
      "cell_type": "code",
      "source": [
        "celsius = input('enter celsius with coma : ')\n",
        "celsius = celsius.split(',')\n",
        "celsius = list(map(int,celsius))\n",
        "\n",
        "\n",
        "list(filter(lambda x: x>10 , celsius))"
      ],
      "metadata": {
        "colab": {
          "base_uri": "https://localhost:8080/"
        },
        "id": "5vX01PRIAOwP",
        "outputId": "e5ccf9c6-a5e9-4520-b079-80da21679d1d"
      },
      "execution_count": null,
      "outputs": [
        {
          "name": "stdout",
          "output_type": "stream",
          "text": [
            "enter celsius with coma : 10,5,20,15,14,28\n"
          ]
        },
        {
          "output_type": "execute_result",
          "data": {
            "text/plain": [
              "[20, 15, 14, 28]"
            ]
          },
          "metadata": {},
          "execution_count": 90
        }
      ]
    },
    {
      "cell_type": "markdown",
      "source": [
        "## 11. Imagine an accounting routine used in a book shop. It works on a list with sublists, which look like this: Write a Python program, which returns a list with 2-tuples. Each tuple consists of the order number and the product of the price per item and the quantity. The product should be increased by 10,- € if the value of the order is smaller than 100,00 €. Write a Python program using lambda and map."
      ],
      "metadata": {
        "id": "KZ18qhi4DZur"
      }
    },
    {
      "cell_type": "code",
      "source": [
        "order_data = [[34587,'learning python',4,40.95],\n",
        "              [98762,'programming python',5,56.80],\n",
        "              [77226,'head first python',3,32.95],\n",
        "              [88112,'einfuhrung in python3',3,24.99]\n",
        "\n",
        "              ]\n",
        "\n",
        "\n",
        "order_totals = list(map(lambda x: (x[0], x[2] * x[3]), order_data))"
      ],
      "metadata": {
        "id": "pskVyDGqFCrQ"
      },
      "execution_count": null,
      "outputs": []
    },
    {
      "cell_type": "code",
      "source": [
        "order_totals"
      ],
      "metadata": {
        "colab": {
          "base_uri": "https://localhost:8080/"
        },
        "id": "7_SSP3lnINDZ",
        "outputId": "ccfb0973-e068-4158-be06-31ce625003f5"
      },
      "execution_count": null,
      "outputs": [
        {
          "output_type": "execute_result",
          "data": {
            "text/plain": [
              "[(34587, 163.8), (98762, 284.0), (77226, 98.85000000000001), (88112, 74.97)]"
            ]
          },
          "metadata": {},
          "execution_count": 98
        }
      ]
    },
    {
      "cell_type": "code",
      "source": [
        "final_totals = list(map(lambda x: (x[0], x[1] + 10 if x[1] < 100 else x[1]), order_totals))"
      ],
      "metadata": {
        "id": "zEHC3xHSIZKI"
      },
      "execution_count": null,
      "outputs": []
    },
    {
      "cell_type": "code",
      "source": [
        "final_totals"
      ],
      "metadata": {
        "id": "6AcJWqJ0IeK-",
        "outputId": "62e94f1a-ca5b-4279-805c-c51e66d72559",
        "colab": {
          "base_uri": "https://localhost:8080/"
        }
      },
      "execution_count": null,
      "outputs": [
        {
          "output_type": "execute_result",
          "data": {
            "text/plain": [
              "[(34587, 163.8), (98762, 284.0), (77226, 108.85000000000001), (88112, 84.97)]"
            ]
          },
          "metadata": {},
          "execution_count": 100
        }
      ]
    }
  ]
}