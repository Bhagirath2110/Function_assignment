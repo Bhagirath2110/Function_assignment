{
  "nbformat": 4,
  "nbformat_minor": 0,
  "metadata": {
    "colab": {
      "provenance": []
    },
    "kernelspec": {
      "name": "python3",
      "display_name": "Python 3"
    },
    "language_info": {
      "name": "python"
    }
  },
  "cells": [
    {
      "cell_type": "markdown",
      "source": [
        "# 1. How can you open a file for writing in Python and write a string to it ?"
      ],
      "metadata": {
        "id": "qIQ1Gm8UW7zq"
      }
    },
    {
      "cell_type": "code",
      "execution_count": null,
      "metadata": {
        "id": "vlTNgnfZRQZv"
      },
      "outputs": [],
      "source": [
        "with open (\"file.txt\", 'w') as f:\n",
        "      f.write(\"Hello Bhagirath\\n\")\n",
        "      f.write(\"How are you\\n\")\n",
        "      f.write(\"I am fine\\n\")\n",
        "      f.write(\"Thank you\\n\")\n",
        "      f.write(\"Bye\")"
      ]
    },
    {
      "cell_type": "markdown",
      "source": [
        "#2. Write a Python program to read the contents of a file and print each line ?\n"
      ],
      "metadata": {
        "id": "aBb6RnboXT6t"
      }
    },
    {
      "cell_type": "code",
      "source": [
        "with open (\"file.txt\", 'r') as f:\n",
        "      for i in f:\n",
        "        print(i)"
      ],
      "metadata": {
        "colab": {
          "base_uri": "https://localhost:8080/"
        },
        "id": "xsr-W6WEX_Xn",
        "outputId": "5afe9863-bc80-4275-c2ff-3596f1baa304"
      },
      "execution_count": null,
      "outputs": [
        {
          "output_type": "stream",
          "name": "stdout",
          "text": [
            "Hello Bhagirath\n",
            "\n",
            "How are you\n",
            "\n",
            "I am fine\n",
            "\n",
            "Thank you\n",
            "\n",
            "Bye\n"
          ]
        }
      ]
    },
    {
      "cell_type": "markdown",
      "source": [
        "# 3. How would you handle a case where the file doesn't exist while trying to open it for reading ?"
      ],
      "metadata": {
        "id": "PtxyTVxlYohc"
      }
    },
    {
      "cell_type": "code",
      "source": [
        "try:\n",
        "  with open (\"file.txt\", 'r') as f:\n",
        "    for i in f:\n",
        "      print(i)\n",
        "except FileNotFoundError:\n",
        "  print(\"File not found\")"
      ],
      "metadata": {
        "colab": {
          "base_uri": "https://localhost:8080/"
        },
        "id": "3UXMY1ZXYoGM",
        "outputId": "297e6518-2640-416c-efbc-23051f78e2ab"
      },
      "execution_count": null,
      "outputs": [
        {
          "output_type": "stream",
          "name": "stdout",
          "text": [
            "Hello Bhagirath\n",
            "\n",
            "How are you\n",
            "\n",
            "I am fine\n",
            "\n",
            "Thank you\n",
            "\n",
            "Bye\n"
          ]
        }
      ]
    },
    {
      "cell_type": "markdown",
      "source": [
        "# 4.Write a Python script that reads from one file and writes its content to another file ?\n",
        "\n"
      ],
      "metadata": {
        "id": "eEZmxL_0Y7lV"
      }
    },
    {
      "cell_type": "code",
      "source": [
        "with open (\"file.txt\", 'r') as f:\n",
        "  with open (\"file2.txt\", 'w') as f2:\n",
        "    for i in f:\n",
        "      f2.write(i)"
      ],
      "metadata": {
        "id": "5kfxqTYYZF6T"
      },
      "execution_count": null,
      "outputs": []
    },
    {
      "cell_type": "code",
      "source": [
        "with open (\"file2.txt\", 'r') as f:\n",
        "  for i in f:\n",
        "    print(i)"
      ],
      "metadata": {
        "colab": {
          "base_uri": "https://localhost:8080/"
        },
        "id": "XQa8IuVvZo89",
        "outputId": "d229a259-ec31-48f9-fb72-621fce517d87"
      },
      "execution_count": null,
      "outputs": [
        {
          "output_type": "stream",
          "name": "stdout",
          "text": [
            "Hello Bhagirath\n",
            "\n",
            "How are you\n",
            "\n",
            "I am fine\n",
            "\n",
            "Thank you\n",
            "\n",
            "Bye\n"
          ]
        }
      ]
    },
    {
      "cell_type": "markdown",
      "source": [
        "# 5. How would you catch and handle division by zero error in Python?"
      ],
      "metadata": {
        "id": "ZKkZ_9sYZuLc"
      }
    },
    {
      "cell_type": "code",
      "source": [
        "try:\n",
        "  a = int(input(\"Enter a number: \"))\n",
        "  b = int(input(\"Enter a number: \"))\n",
        "  c = a/b\n",
        "  print(c)\n",
        "except ZeroDivisionError as e:\n",
        "  print(\"Division by zero is not possible \")"
      ],
      "metadata": {
        "colab": {
          "base_uri": "https://localhost:8080/"
        },
        "id": "d4q_SKKUaBT3",
        "outputId": "564aec6a-9904-48da-b519-06c95e74e0ac"
      },
      "execution_count": null,
      "outputs": [
        {
          "output_type": "stream",
          "name": "stdout",
          "text": [
            "Enter a number: 10\n",
            "Enter a number: 0\n",
            "Division by zero is not possible \n"
          ]
        }
      ]
    },
    {
      "cell_type": "markdown",
      "source": [
        "# 6.Write a Python program that logs an error message to a log file when a division by zero exception occurs ?"
      ],
      "metadata": {
        "id": "RJgRSSYLbGV1"
      }
    },
    {
      "cell_type": "code",
      "source": [
        "import logging\n",
        "logging.basicConfig(filename = 'test.log', level = logging.DEBUG, format = '%(asctime)s %(levelname)s %(message)s')"
      ],
      "metadata": {
        "id": "pxSRBHNuf16p"
      },
      "execution_count": 45,
      "outputs": []
    },
    {
      "cell_type": "code",
      "source": [
        "\n",
        "try:\n",
        "    a = int(input(\"Enter a number: \"))\n",
        "    b = int(input(\"Enter a number: \"))\n",
        "    c = a / b\n",
        "    print(\"Result:\", c)\n",
        "\n",
        "except ZeroDivisionError as e:\n",
        "    logging.info(\"Division by zero is not possible\")\n",
        "    print(\"Division by zero is not possible\")\n",
        "    logging.shutdown()\n"
      ],
      "metadata": {
        "colab": {
          "base_uri": "https://localhost:8080/"
        },
        "id": "pcTuHZJ6bM8j",
        "outputId": "e88dd0ea-7797-406a-b8c3-4d3af6642f53"
      },
      "execution_count": 46,
      "outputs": [
        {
          "output_type": "stream",
          "name": "stdout",
          "text": [
            "Enter a number: 10\n",
            "Enter a number: 0\n",
            "Division by zero is not possible\n"
          ]
        }
      ]
    },
    {
      "cell_type": "markdown",
      "source": [
        "# 7.How do you log information at different levels (INFO, ERROR, WARNING) in Python using the logging module."
      ],
      "metadata": {
        "id": "n_c3mbksiYd1"
      }
    },
    {
      "cell_type": "code",
      "source": [
        "import logging\n",
        "logging.basicConfig(filename = 'test.log', level = logging.DEBUG, format = '%(asctime)s %(levelname)s %(message)s')\n",
        "\n",
        "logging.info(\"This is an info message\")\n",
        "logging.error(\"This is an error message\")\n",
        "logging.warning(\"This is a warning message\")\n",
        "logging.debug(\"This is a debug message\")\n",
        "logging.critical(\"This is a critical message\")\n",
        "logging.shutdown()"
      ],
      "metadata": {
        "colab": {
          "base_uri": "https://localhost:8080/"
        },
        "id": "F41FaCmuifFr",
        "outputId": "15fce2c7-729a-4c22-a1eb-967186977d2a"
      },
      "execution_count": 48,
      "outputs": [
        {
          "output_type": "stream",
          "name": "stderr",
          "text": [
            "ERROR:root:This is an error message\n",
            "WARNING:root:This is a warning message\n",
            "CRITICAL:root:This is a critical message\n"
          ]
        }
      ]
    },
    {
      "cell_type": "markdown",
      "source": [
        "# 8. Write a program to handle a file opening error using exception handling."
      ],
      "metadata": {
        "id": "AMoYMe5YjbeO"
      }
    },
    {
      "cell_type": "code",
      "source": [
        "try:\n",
        "  with open (\"file3.txt\", 'r') as f:\n",
        "    for i in f:\n",
        "      print(i)\n",
        "except FileNotFoundError:\n",
        "  print(\"File not found\")"
      ],
      "metadata": {
        "colab": {
          "base_uri": "https://localhost:8080/"
        },
        "id": "fVoSYWMGjp-w",
        "outputId": "60b51149-c210-4e8d-8c67-57cee64a9b7e"
      },
      "execution_count": 50,
      "outputs": [
        {
          "output_type": "stream",
          "name": "stdout",
          "text": [
            "File not found\n"
          ]
        }
      ]
    },
    {
      "cell_type": "markdown",
      "source": [
        "# 9. How can you read a file line by line and store its content in a list in Python ?"
      ],
      "metadata": {
        "id": "Xa2xN8rXjjgz"
      }
    },
    {
      "cell_type": "code",
      "source": [
        "l = []\n",
        "with open (\"file.txt\", 'r') as f:\n",
        "  for i in f:\n",
        "    l.append(i)\n",
        "print(l)"
      ],
      "metadata": {
        "colab": {
          "base_uri": "https://localhost:8080/"
        },
        "id": "Xwe7eIaDj4Ui",
        "outputId": "84014474-0ef9-451d-eaca-1f8157ec9c76"
      },
      "execution_count": 51,
      "outputs": [
        {
          "output_type": "stream",
          "name": "stdout",
          "text": [
            "['Hello Bhagirath\\n', 'How are you\\n', 'I am fine\\n', 'Thank you\\n', 'Bye']\n"
          ]
        }
      ]
    },
    {
      "cell_type": "markdown",
      "source": [
        "# 10. How can you append data to an existing file in Python.\n"
      ],
      "metadata": {
        "id": "9lFPfUtPj_lN"
      }
    },
    {
      "cell_type": "code",
      "source": [
        "with open(\"file.txt\",'a') as f:\n",
        "  f.write(\"\\nThis is a new line\")\n"
      ],
      "metadata": {
        "id": "ftI_oUULkF32"
      },
      "execution_count": 53,
      "outputs": []
    },
    {
      "cell_type": "markdown",
      "source": [
        "# 11. Write a Python program that uses a try-except block to handle an error when attempting to access a dictionary key that doesn't exist ?"
      ],
      "metadata": {
        "id": "ufm-z81DkYQg"
      }
    },
    {
      "cell_type": "code",
      "source": [
        "dict = {\n",
        "    \"name\" : \"bhagirath\",\n",
        "    \"age\": 23,\n",
        "    \"gender\": \"male\"\n",
        "}\n",
        "\n",
        "try :\n",
        "    grade = dict[\"grade\"]\n",
        "    print(\"Grade:\", grade)\n",
        "\n",
        "except KeyError:\n",
        "    print(\"Error: 'grade' key not found in the dictionary.\")"
      ],
      "metadata": {
        "colab": {
          "base_uri": "https://localhost:8080/"
        },
        "id": "sztflYIVkg7l",
        "outputId": "c0c19621-88f8-4d7b-9e1d-bbc7d69e226f"
      },
      "execution_count": 55,
      "outputs": [
        {
          "output_type": "stream",
          "name": "stdout",
          "text": [
            "Error: 'grade' key not found in the dictionary.\n"
          ]
        }
      ]
    },
    {
      "cell_type": "markdown",
      "source": [
        "# 12. Write a program that demonstrates using multiple except blocks to handle different types of exceptions."
      ],
      "metadata": {
        "id": "j-zM-4CslIg6"
      }
    },
    {
      "cell_type": "code",
      "source": [
        "try :\n",
        "  a = int(input(\"Enter a number: \"))\n",
        "  b = int(input(\"Enter a number: \"))\n",
        "  c = a/b\n",
        "  print(\"Result:\", c)\n",
        "\n",
        "except ZeroDivisionError:\n",
        "  print(\"Division by zero is not possible \")\n",
        "\n",
        "except FileNotFoundError:\n",
        "  print(\"File not found\")\n",
        "\n",
        "except Exception as e:\n",
        "    print(\"An error occurred:\", e)\n",
        "\n"
      ],
      "metadata": {
        "colab": {
          "base_uri": "https://localhost:8080/"
        },
        "id": "NNHBDoS0lSYW",
        "outputId": "3ca349ad-f648-4bc3-fb30-21d934817eb9"
      },
      "execution_count": 58,
      "outputs": [
        {
          "output_type": "stream",
          "name": "stdout",
          "text": [
            "Enter a number: 10\n",
            "Enter a number: 0\n",
            "Division by zero is not possible \n"
          ]
        }
      ]
    },
    {
      "cell_type": "markdown",
      "source": [
        "# 13. How would you check if a file exists before attempting to read it in Python"
      ],
      "metadata": {
        "id": "ffXrjFsCmgRl"
      }
    },
    {
      "cell_type": "code",
      "source": [
        "import os\n",
        "\n",
        "os.path.exists(\"file.txt\")"
      ],
      "metadata": {
        "colab": {
          "base_uri": "https://localhost:8080/"
        },
        "id": "4_kG0KF5mm2r",
        "outputId": "0bdf2aad-8b2c-47dd-ec07-197af24f5298"
      },
      "execution_count": 60,
      "outputs": [
        {
          "output_type": "execute_result",
          "data": {
            "text/plain": [
              "True"
            ]
          },
          "metadata": {},
          "execution_count": 60
        }
      ]
    },
    {
      "cell_type": "markdown",
      "source": [
        "# 14. Write a program that uses the logging module to log both informational and error messages."
      ],
      "metadata": {
        "id": "_9PElF6Jm-0E"
      }
    },
    {
      "cell_type": "code",
      "source": [
        "import logging\n",
        "logging.basicConfig(filename = 'test3.log', level = logging.DEBUG, format = '%(asctime)s %(levelname)s %(message)s')\n",
        "\n",
        "logging.info(\"This is an info message\")\n",
        "logging.error(\"This is an error message\")"
      ],
      "metadata": {
        "colab": {
          "base_uri": "https://localhost:8080/"
        },
        "id": "yBloL0NfnEoz",
        "outputId": "1136b707-465b-4390-80cd-bbf8926470f6"
      },
      "execution_count": 63,
      "outputs": [
        {
          "output_type": "stream",
          "name": "stderr",
          "text": [
            "ERROR:root:This is an error message\n"
          ]
        }
      ]
    },
    {
      "cell_type": "markdown",
      "source": [
        "# 15. Write a Python program that prints the content of a file and handles the case when the file is empty."
      ],
      "metadata": {
        "id": "0l471VyNnNdG"
      }
    },
    {
      "cell_type": "code",
      "source": [
        "try:\n",
        "  with open (\"file4.txt\", 'r') as f:\n",
        "    for i in f:\n",
        "      print(i)\n",
        "except FileNotFoundError:\n",
        "  print(\"File not found\")\n",
        "except Exception as e:\n",
        "  print(\"An error occurred:\", e)"
      ],
      "metadata": {
        "colab": {
          "base_uri": "https://localhost:8080/"
        },
        "id": "T8Is8CTvnTOg",
        "outputId": "cdd0dd65-4195-40d9-cc12-d31e3778d12c"
      },
      "execution_count": 73,
      "outputs": [
        {
          "output_type": "stream",
          "name": "stdout",
          "text": [
            "File not found\n"
          ]
        }
      ]
    },
    {
      "cell_type": "markdown",
      "source": [
        "# 16. Demonstrate how to use memory profiling to check the memory usage of a small program."
      ],
      "metadata": {
        "id": "AtaQvBBGoPhj"
      }
    },
    {
      "cell_type": "code",
      "source": [
        "pip install memory-profiler"
      ],
      "metadata": {
        "colab": {
          "base_uri": "https://localhost:8080/"
        },
        "id": "Q9NXAc65ocrT",
        "outputId": "1d39f1d0-e7de-470d-cac7-684a2dc40a89"
      },
      "execution_count": 74,
      "outputs": [
        {
          "output_type": "stream",
          "name": "stdout",
          "text": [
            "Collecting memory-profiler\n",
            "  Downloading memory_profiler-0.61.0-py3-none-any.whl.metadata (20 kB)\n",
            "Requirement already satisfied: psutil in /usr/local/lib/python3.11/dist-packages (from memory-profiler) (5.9.5)\n",
            "Downloading memory_profiler-0.61.0-py3-none-any.whl (31 kB)\n",
            "Installing collected packages: memory-profiler\n",
            "Successfully installed memory-profiler-0.61.0\n"
          ]
        }
      ]
    },
    {
      "cell_type": "markdown",
      "source": [
        "# 17. Write a Python program to create and write a list of numbers to a file, one number per line."
      ],
      "metadata": {
        "id": "iuPvcrPyrp1z"
      }
    },
    {
      "cell_type": "code",
      "source": [
        "with open (\"file5.txt\", 'w') as f:\n",
        "  f.write(\"1\\n\")\n",
        "  f.write(\"2\\n\")\n",
        "  f.write(\"3\\n\")\n",
        "  f.write(\"4\\n\")\n",
        "  f.write(\"5\\n\")"
      ],
      "metadata": {
        "id": "ai85M5WDpTf9"
      },
      "execution_count": 77,
      "outputs": []
    },
    {
      "cell_type": "markdown",
      "source": [
        "# 18. How would you implement a basic logging setup that logs to a file with rotation after 1MB.\n"
      ],
      "metadata": {
        "id": "9Cve320vsK3f"
      }
    },
    {
      "cell_type": "markdown",
      "source": [
        "this is not got teach so i don't know the ans beacause in lecture they taught about basic logging and if it can solve by that than i need a solution also sir that's my humble request sir\n",
        "\n",
        "e-mail :- kanetbhagirath2110@gmail.com"
      ],
      "metadata": {
        "id": "7r7fgUAfzAv4"
      }
    },
    {
      "cell_type": "code",
      "source": [
        "import logging\n",
        "\n",
        "logging.basicConfig(filename = 'test4.log', level = logging.DEBUG, format = '%(asctime)s %(levelname)s %(message)s')\n",
        "\n"
      ],
      "metadata": {
        "id": "N8VLVQcgsU9c"
      },
      "execution_count": 79,
      "outputs": []
    },
    {
      "cell_type": "markdown",
      "source": [
        "# 19. Write a program that handles both IndexError and KeyError using a try-except block."
      ],
      "metadata": {
        "id": "HFrqmmZT1ym_"
      }
    },
    {
      "cell_type": "code",
      "source": [
        "my_list = [10, 20, 30]\n",
        "my_dict = {\"name\": \"Alice\", \"age\": 25}\n",
        "\n",
        "try:\n",
        "    print(\"List value:\", my_list[5])\n",
        "except IndexError:\n",
        "    print(\"Error: List index out of range.\")\n",
        "\n",
        "try:\n",
        "    print(\"City:\", my_dict[\"city\"])\n",
        "except KeyError:\n",
        "    print(\"Error: Key not found in the dictionary.\")"
      ],
      "metadata": {
        "colab": {
          "base_uri": "https://localhost:8080/"
        },
        "id": "HuamyPVv14VP",
        "outputId": "5f19bc8e-c857-482d-e68c-d849858575fa"
      },
      "execution_count": 82,
      "outputs": [
        {
          "output_type": "stream",
          "name": "stdout",
          "text": [
            "Error: List index out of range.\n",
            "Error: Key not found in the dictionary.\n"
          ]
        }
      ]
    },
    {
      "cell_type": "markdown",
      "source": [
        "# 20. How would you open a file and read its contents using a context manager in Python ?"
      ],
      "metadata": {
        "id": "Kh7j_IlQ2rhd"
      }
    },
    {
      "cell_type": "code",
      "source": [
        "with open (\"file2.txt\",'r') as f:\n",
        "    content = f.read()\n",
        "    print(content)"
      ],
      "metadata": {
        "colab": {
          "base_uri": "https://localhost:8080/"
        },
        "id": "T-noPBQO2x8i",
        "outputId": "5989d4b4-0a28-48f5-eeaa-10e5b7d37ca2"
      },
      "execution_count": 86,
      "outputs": [
        {
          "output_type": "stream",
          "name": "stdout",
          "text": [
            "Hello Bhagirath\n",
            "How are you\n",
            "I am fine\n",
            "Thank you\n",
            "Bye\n"
          ]
        }
      ]
    },
    {
      "cell_type": "markdown",
      "source": [
        "# 21. Write a Python program that reads a file and prints the number of occurrences of a specific word ?"
      ],
      "metadata": {
        "id": "hNwxKZFH3TqO"
      }
    },
    {
      "cell_type": "code",
      "source": [
        "try:\n",
        "        with open(\"file2.txt\", 'r') as file:\n",
        "            content = file.read().lower()  # Convert to lowercase for case-insensitive search\n",
        "            words = content.split()\n",
        "            count = words.count(\"bhagirath\".lower())\n",
        "            print(f\"The word 'bhagirath' occurs {count} times in the file.\")\n",
        "except FileNotFoundError:\n",
        "        print(f\"Error: The file '{file2.txt}' was not found.\")"
      ],
      "metadata": {
        "colab": {
          "base_uri": "https://localhost:8080/"
        },
        "id": "lObl9iSe3aIK",
        "outputId": "61c4bb42-894b-498c-8bb8-185792516676"
      },
      "execution_count": 90,
      "outputs": [
        {
          "output_type": "stream",
          "name": "stdout",
          "text": [
            "The word 'bhagirath' occurs 1 times in the file.\n"
          ]
        }
      ]
    },
    {
      "cell_type": "markdown",
      "source": [
        "# 22. How can you check if a file is empty before attempting to read its contents ?"
      ],
      "metadata": {
        "id": "9OrKCtfb58PI"
      }
    },
    {
      "cell_type": "code",
      "source": [
        "import os\n",
        "\n",
        "filename = \"file.txt\"\n",
        "\n",
        "if os.path.getsize(filename) == 0:\n",
        "    print(\"The file is empty.\")\n",
        "else:\n",
        "    with open(filename, \"r\") as file:\n",
        "        content = file.read()\n",
        "        print(\"File content:\")\n",
        "        print(content)"
      ],
      "metadata": {
        "colab": {
          "base_uri": "https://localhost:8080/"
        },
        "id": "YcuFeCpM6Lyj",
        "outputId": "9d6aa22f-df6c-4ce5-8578-38c7f8ef546a"
      },
      "execution_count": 93,
      "outputs": [
        {
          "output_type": "stream",
          "name": "stdout",
          "text": [
            "The file is empty.\n"
          ]
        }
      ]
    },
    {
      "cell_type": "markdown",
      "source": [
        "# 23. Write a Python program that writes to a log file when an error occurs during file handling."
      ],
      "metadata": {
        "id": "92jbTFu2K2QE"
      }
    },
    {
      "cell_type": "code",
      "source": [
        "import logging\n",
        "logging.basicConfig(filename = 'file_handling.log', level = logging.DEBUG, format = '%(asctime)s %(levelname)s %(message)s')\n",
        "try:\n",
        "  a = int(input(\"Enter a number: \"))\n",
        "  b = int(input(\"Enter a number: \"))\n",
        "  c = a/b\n",
        "  print(\"Result:\", c)\n",
        "\n",
        "except ZeroDivisionError:\n",
        "  print(\"Division by zero is not possible \")\n",
        "  logging.info(\"Division by zero is not possible\")\n",
        "  logging.shutdown()"
      ],
      "metadata": {
        "colab": {
          "base_uri": "https://localhost:8080/"
        },
        "id": "L-HKPERhLHST",
        "outputId": "75524d78-8dab-4acd-9420-a04ae10acb2b"
      },
      "execution_count": 95,
      "outputs": [
        {
          "output_type": "stream",
          "name": "stdout",
          "text": [
            "Enter a number: 10\n",
            "Enter a number: 0\n",
            "Division by zero is not possible \n"
          ]
        }
      ]
    }
  ]
}